{
 "cells": [
  {
   "cell_type": "code",
   "execution_count": 4,
   "metadata": {},
   "outputs": [
    {
     "name": "stdout",
     "output_type": "stream",
     "text": [
      "Requirement already satisfied: openai in /usr/local/lib/python3.10/dist-packages (1.3.3)\n",
      "Requirement already satisfied: python-dotenv in /usr/local/lib/python3.10/dist-packages (1.0.0)\n",
      "Requirement already satisfied: anyio<4,>=3.5.0 in /usr/local/lib/python3.10/dist-packages (from openai) (3.7.1)\n",
      "Requirement already satisfied: distro<2,>=1.7.0 in /usr/lib/python3/dist-packages (from openai) (1.7.0)\n",
      "Requirement already satisfied: httpx<1,>=0.23.0 in /usr/local/lib/python3.10/dist-packages (from openai) (0.25.1)\n",
      "Requirement already satisfied: pydantic<3,>=1.9.0 in /usr/local/lib/python3.10/dist-packages (from openai) (2.5.1)\n",
      "Requirement already satisfied: tqdm>4 in /usr/local/lib/python3.10/dist-packages (from openai) (4.66.1)\n",
      "Requirement already satisfied: typing-extensions<5,>=4.5 in /usr/local/lib/python3.10/dist-packages (from openai) (4.8.0)\n",
      "Requirement already satisfied: idna>=2.8 in /usr/local/lib/python3.10/dist-packages (from anyio<4,>=3.5.0->openai) (3.4)\n",
      "Requirement already satisfied: sniffio>=1.1 in /usr/local/lib/python3.10/dist-packages (from anyio<4,>=3.5.0->openai) (1.3.0)\n",
      "Requirement already satisfied: exceptiongroup in /usr/local/lib/python3.10/dist-packages (from anyio<4,>=3.5.0->openai) (1.1.3)\n",
      "Requirement already satisfied: certifi in /usr/local/lib/python3.10/dist-packages (from httpx<1,>=0.23.0->openai) (2022.12.7)\n",
      "Requirement already satisfied: httpcore in /usr/local/lib/python3.10/dist-packages (from httpx<1,>=0.23.0->openai) (1.0.2)\n",
      "Requirement already satisfied: annotated-types>=0.4.0 in /usr/local/lib/python3.10/dist-packages (from pydantic<3,>=1.9.0->openai) (0.6.0)\n",
      "Requirement already satisfied: pydantic-core==2.14.3 in /usr/local/lib/python3.10/dist-packages (from pydantic<3,>=1.9.0->openai) (2.14.3)\n",
      "Requirement already satisfied: h11<0.15,>=0.13 in /usr/local/lib/python3.10/dist-packages (from httpcore->httpx<1,>=0.23.0->openai) (0.14.0)\n",
      "\u001b[33mWARNING: Running pip as the 'root' user can result in broken permissions and conflicting behaviour with the system package manager. It is recommended to use a virtual environment instead: https://pip.pypa.io/warnings/venv\u001b[0m\u001b[33m\n",
      "\u001b[0m"
     ]
    }
   ],
   "source": [
    "!pip install openai python-dotenv"
   ]
  },
  {
   "cell_type": "code",
   "execution_count": 5,
   "metadata": {},
   "outputs": [
    {
     "data": {
      "text/plain": [
       "True"
      ]
     },
     "execution_count": 5,
     "metadata": {},
     "output_type": "execute_result"
    }
   ],
   "source": [
    "import dotenv\n",
    "import openai\n",
    "import re\n",
    "dotenv.load_dotenv('../.env')"
   ]
  },
  {
   "cell_type": "code",
   "execution_count": 6,
   "metadata": {},
   "outputs": [],
   "source": [
    "hero_name = \"Philippe\"\n",
    "story_idea = \"une jeune sorcière en formation qui doit prouver ses compétences en sauvant son village d'un sortilège maléfique\"\n",
    "instructions = \"\"\"\n",
    "Consignes:\n",
    "Un chapitre doit être court et se terminer par un cliffhanger.\n",
    "Un Chapitre est divisé en plusieurs court paragraphes.\n",
    "Un paragraphes contient Deux phrases au maximum.\"\"\"\n",
    "imagen_instructions = \"\"\"-----\n",
    "Write a very short one sentence visual description of the scene. Include a very short description of the character and its environnement. Keep it short and simple.\"\"\""
   ]
  },
  {
   "cell_type": "code",
   "execution_count": 7,
   "metadata": {},
   "outputs": [],
   "source": [
    "def generate_prompt(story_idea, hero_name, instructions):\n",
    "    prompt = f\"\"\"Ecris une histoire pour enfant composée de 5 chapitres.\n",
    "{story_idea}\n",
    "Personnage principal: {hero_name}\n",
    "{instructions}\n",
    "\"\"\"\n",
    "    return prompt"
   ]
  },
  {
   "cell_type": "code",
   "execution_count": 8,
   "metadata": {},
   "outputs": [],
   "source": [
    "def generate_story(story_idea, hero_name, instructions):\n",
    "    prompt = generate_prompt(story_idea, hero_name, instructions)\n",
    "    response = openai.chat.completions.create(\n",
    "        model=\"gpt-3.5-turbo\",\n",
    "        messages=[{\"role\":\"user\", \"content\": prompt}]\n",
    "    )\n",
    "    full_text = response.choices[0].message.content\n",
    "    return full_text"
   ]
  },
  {
   "cell_type": "code",
   "execution_count": 9,
   "metadata": {},
   "outputs": [
    {
     "name": "stdout",
     "output_type": "stream",
     "text": [
      "Chapitre 1: Léa et son rêve de devenir sorcière\n",
      "\n",
      "Léa était une petite fille ordinaire, mais elle rêvait de devenir une sorcière puissante. Chaque nuit, elle s'endormait en imaginant des sorts spectaculaires et des potions magiques. Un matin, alors qu'elle se réveillait, une lettre mystérieuse glissa par la fente de sa porte. Elle était invitée à rejoindre l'école des sorciers pour y suivre sa formation. Léa était remplie de joie, mais elle savait qu'elle devait prouver ses compétences pour gagner sa place. Quelle épreuve l'attendait-elle ?\n",
      "\n",
      "Chapitre 2: Le premier test inattendu\n",
      "\n",
      "Léa se rendit à l'école des sorciers, pleine d'excitation et de nervosité. Elle fut accueillie par le professeur Merlin, qui lui dit qu'elle devait prouver sa valeur en sauvant son propre village d'un sortilège maléfique. Elle n'avait aucune idée de ce qui l'attendait, mais elle était déterminée à réussir. Elle se prépara pour sa première épreuve avec courage et détermination.\n",
      "\n",
      "Chapitre 3: Le pouvoir des épreuves\n",
      "\n",
      "Léa entra dans son village, maintenant couvert d'une épaisse brume magique. Elle se fraya un chemin à travers les rues sombres et sinistres, cherchant des indices sur le sortilège maléfique. Soudain, elle entendit un bruit mystérieux venant de derrière elle. Elle se retourna et vit une horde de corbeaux sombres qui s'envolèrent du sol. Ils semblaient vouloir l'empêcher d'avancer. Léa sut alors que les épreuves ne seraient pas faciles, mais elle était prête à affronter tous les obstacles pour sauver son village bien-aimé.\n",
      "\n",
      "Chapitre 4: La révélation des vérités\n",
      "\n",
      "Léa découvrit que le sortilège maléfique avait été jeté par une sorcière jalouse qui enviait son talent. Elle comprit alors qu'elle devait trouver un moyen de la vaincre pour briser le sort. Elle se retrouva dans une bataille magique avec la sorcière, utilisant tous ses sorts et ses potions pour la neutraliser. Mais la sorcière était puissante et elle lança un sortilège qui l'emprisonna dans une cage de cristal. Léa se demandait comment elle pourrait s'en sortir maintenant.\n",
      "\n",
      "Chapitre 5: La victoire finale\n",
      "\n",
      "Alors qu'elle était prisonnière, Léa se souvint de toutes les leçons qu'elle avait apprises à l'école des sorciers. Elle utilisa sa créativité et sa persévérance pour créer un sortilège de sauvetage. La cage de cristal commença à se fissurer puis à se briser en mille morceaux. Léa était libre et prête à affronter la sorcière jalouse une dernière fois. Elle lança son sortilège le plus puissant, emprisonnant la sorcière maléfique à son tour. Le village était sauvé et Léa avait prouvé qu'elle était une sorcière talentueuse. Elle était maintenant prête à continuer sa formation et à réaliser tous ses rêves magiques.\n"
     ]
    }
   ],
   "source": [
    "story = generate_story(story_idea, hero_name, instructions)\n",
    "print(story)"
   ]
  },
  {
   "cell_type": "code",
   "execution_count": 10,
   "metadata": {},
   "outputs": [],
   "source": [
    "\n",
    "def format_raw_story(story):\n",
    "\n",
    "    # split story into chapters\n",
    "    pattern = r\"(Chapitre \\d+: [^\\n]+)\\n\\n(.*?)(?=\\n\\nChapitre|$)\"\n",
    "\n",
    "    # Find all matches\n",
    "    story_by_chapters = re.findall(pattern, story, re.DOTALL)\n",
    "\n",
    "    # Split the chapters into paragraphs of at least 100 characters\n",
    "    story_by_chapters_and_paragraphs = []\n",
    "    for chapter in story_by_chapters:\n",
    "        chapter_title = chapter[0]\n",
    "        chapter_content = chapter[1]\n",
    "        chapter_content_splited = []\n",
    "        for sentence in chapter_content.split(\".\"):\n",
    "            sentence = sentence.strip()\n",
    "            if sentence == \"\": continue\n",
    "            if len(chapter_content_splited) == 0:\n",
    "                chapter_content_splited.append(sentence)\n",
    "            elif len(chapter_content_splited[-1]) < 100:\n",
    "                chapter_content_splited[-1] += f\". {sentence}\"\n",
    "            else:\n",
    "                chapter_content_splited.append(sentence)\n",
    "        story_by_chapters_and_paragraphs.append((chapter_title, chapter_content_splited))\n",
    "    \n",
    "    return story_by_chapters_and_paragraphs"
   ]
  },
  {
   "cell_type": "code",
   "execution_count": 11,
   "metadata": {},
   "outputs": [],
   "source": [
    "formated_story = format_raw_story(story)"
   ]
  },
  {
   "cell_type": "code",
   "execution_count": 12,
   "metadata": {},
   "outputs": [
    {
     "data": {
      "text/plain": [
       "[('Chapitre 1: Léa et son rêve de devenir sorcière',\n",
       "  [\"Léa était une petite fille ordinaire, mais elle rêvait de devenir une sorcière puissante. Chaque nuit, elle s'endormait en imaginant des sorts spectaculaires et des potions magiques\",\n",
       "   \"Un matin, alors qu'elle se réveillait, une lettre mystérieuse glissa par la fente de sa porte. Elle était invitée à rejoindre l'école des sorciers pour y suivre sa formation\",\n",
       "   \"Léa était remplie de joie, mais elle savait qu'elle devait prouver ses compétences pour gagner sa place\",\n",
       "   \"Quelle épreuve l'attendait-elle ?\"]),\n",
       " ('Chapitre 2: Le premier test inattendu',\n",
       "  [\"Léa se rendit à l'école des sorciers, pleine d'excitation et de nervosité. Elle fut accueillie par le professeur Merlin, qui lui dit qu'elle devait prouver sa valeur en sauvant son propre village d'un sortilège maléfique\",\n",
       "   \"Elle n'avait aucune idée de ce qui l'attendait, mais elle était déterminée à réussir. Elle se prépara pour sa première épreuve avec courage et détermination\"]),\n",
       " ('Chapitre 3: Le pouvoir des épreuves',\n",
       "  [\"Léa entra dans son village, maintenant couvert d'une épaisse brume magique. Elle se fraya un chemin à travers les rues sombres et sinistres, cherchant des indices sur le sortilège maléfique\",\n",
       "   \"Soudain, elle entendit un bruit mystérieux venant de derrière elle. Elle se retourna et vit une horde de corbeaux sombres qui s'envolèrent du sol\",\n",
       "   \"Ils semblaient vouloir l'empêcher d'avancer. Léa sut alors que les épreuves ne seraient pas faciles, mais elle était prête à affronter tous les obstacles pour sauver son village bien-aimé\"]),\n",
       " ('Chapitre 4: La révélation des vérités',\n",
       "  ['Léa découvrit que le sortilège maléfique avait été jeté par une sorcière jalouse qui enviait son talent',\n",
       "   \"Elle comprit alors qu'elle devait trouver un moyen de la vaincre pour briser le sort. Elle se retrouva dans une bataille magique avec la sorcière, utilisant tous ses sorts et ses potions pour la neutraliser\",\n",
       "   \"Mais la sorcière était puissante et elle lança un sortilège qui l'emprisonna dans une cage de cristal\",\n",
       "   \"Léa se demandait comment elle pourrait s'en sortir maintenant\"]),\n",
       " ('Chapitre 5: La victoire finale',\n",
       "  [\"Alors qu'elle était prisonnière, Léa se souvint de toutes les leçons qu'elle avait apprises à l'école des sorciers\",\n",
       "   'Elle utilisa sa créativité et sa persévérance pour créer un sortilège de sauvetage. La cage de cristal commença à se fissurer puis à se briser en mille morceaux',\n",
       "   'Léa était libre et prête à affronter la sorcière jalouse une dernière fois. Elle lança son sortilège le plus puissant, emprisonnant la sorcière maléfique à son tour',\n",
       "   \"Le village était sauvé et Léa avait prouvé qu'elle était une sorcière talentueuse. Elle était maintenant prête à continuer sa formation et à réaliser tous ses rêves magiques\"])]"
      ]
     },
     "execution_count": 12,
     "metadata": {},
     "output_type": "execute_result"
    }
   ],
   "source": [
    "formated_story"
   ]
  },
  {
   "cell_type": "code",
   "execution_count": 13,
   "metadata": {},
   "outputs": [],
   "source": [
    "def text_to_images_desc(chapter_content):\n",
    "    response = openai.chat.completions.create(\n",
    "        model=\"gpt-3.5-turbo\",\n",
    "        messages=[{\"role\":\"user\", \"content\": f\"\"\"{chapter_content}\n",
    "{imagen_instructions}\"\"\"}\n",
    "                  ],\n",
    "        max_tokens=50\n",
    "    )\n",
    "    full_text = response.choices[0].message.content\n",
    "    return full_text\n",
    "\n",
    "                   \n",
    "    "
   ]
  },
  {
   "cell_type": "code",
   "execution_count": 14,
   "metadata": {},
   "outputs": [
    {
     "name": "stdout",
     "output_type": "stream",
     "text": [
      "Chapitre 1: Léa et son rêve de devenir sorcière\n"
     ]
    },
    {
     "name": "stdout",
     "output_type": "stream",
     "text": [
      "Chapitre 2: Le premier test inattendu\n",
      "Chapitre 3: Le pouvoir des épreuves\n",
      "Chapitre 4: La révélation des vérités\n",
      "Chapitre 5: La victoire finale\n"
     ]
    },
    {
     "data": {
      "text/plain": [
       "[{'chapter_title': 'Chapitre 1: Léa et son rêve de devenir sorcière',\n",
       "  'paragraphs': [{'text': \"Léa était une petite fille ordinaire, mais elle rêvait de devenir une sorcière puissante. Chaque nuit, elle s'endormait en imaginant des sorts spectaculaires et des potions magiques\",\n",
       "    'image_desc': 'A little girl named Léa, surrounded by books of spells and cauldrons, dreams of becoming a powerful witch.'},\n",
       "   {'text': \"Un matin, alors qu'elle se réveillait, une lettre mystérieuse glissa par la fente de sa porte. Elle était invitée à rejoindre l'école des sorciers pour y suivre sa formation\",\n",
       "    'image_desc': \"Une jeune femme se tient dans une chambre paisible à la lumière douce du matin, alors qu'une lettre mystérieuse glisse silencieusement sous sa porte.\"},\n",
       "   {'text': \"Léa était remplie de joie, mais elle savait qu'elle devait prouver ses compétences pour gagner sa place\",\n",
       "    'image_desc': 'Léa, a joyful individual, in a determined stance, ready to showcase her skills in order to secure her position, her surroundings brimming with anticipation.'},\n",
       "   {'text': \"Quelle épreuve l'attendait-elle ?\",\n",
       "    'image_desc': 'A young woman stands alone in a dimly lit room, her face masked with determination as she gazes towards an ominous door, uncertain of what awaits on the other side.'}]},\n",
       " {'chapter_title': 'Chapitre 2: Le premier test inattendu',\n",
       "  'paragraphs': [{'text': \"Léa se rendit à l'école des sorciers, pleine d'excitation et de nervosité. Elle fut accueillie par le professeur Merlin, qui lui dit qu'elle devait prouver sa valeur en sauvant son propre village d'un sortilège maléfique\",\n",
       "    'image_desc': 'Léa, a young girl dressed in robes, stands outside the grand entrance of the wizarding school, her eyes wide with anticipation as she is greeted by Professor Merlin, who entrusts her with the task of saving her village from a wicked'},\n",
       "   {'text': \"Elle n'avait aucune idée de ce qui l'attendait, mais elle était déterminée à réussir. Elle se prépara pour sa première épreuve avec courage et détermination\",\n",
       "    'image_desc': 'A determined young woman, ready for her first challenge, stands alone in a dimly lit room, emanating a strong aura of bravery.'}]},\n",
       " {'chapter_title': 'Chapitre 3: Le pouvoir des épreuves',\n",
       "  'paragraphs': [{'text': \"Léa entra dans son village, maintenant couvert d'une épaisse brume magique. Elle se fraya un chemin à travers les rues sombres et sinistres, cherchant des indices sur le sortilège maléfique\",\n",
       "    'image_desc': 'Léa, a determined protagonist, navigates through the dark and eerie streets of her village, shrouded in a thick, magical mist, in search of clues about the evil spell.'},\n",
       "   {'text': \"Soudain, elle entendit un bruit mystérieux venant de derrière elle. Elle se retourna et vit une horde de corbeaux sombres qui s'envolèrent du sol\",\n",
       "    'image_desc': 'A woman, startled, turns around to see a swarm of dark crows taking flight from the ground.'},\n",
       "   {'text': \"Ils semblaient vouloir l'empêcher d'avancer. Léa sut alors que les épreuves ne seraient pas faciles, mais elle était prête à affronter tous les obstacles pour sauver son village bien-aimé\",\n",
       "    'image_desc': 'In a determined stance, Léa stood amidst a rocky path, with the villagers watching cautiously, as all obstacles seemed to converge against her.'}]},\n",
       " {'chapter_title': 'Chapitre 4: La révélation des vérités',\n",
       "  'paragraphs': [{'text': 'Léa découvrit que le sortilège maléfique avait été jeté par une sorcière jalouse qui enviait son talent',\n",
       "    'image_desc': 'In a dimly lit forest, Léa, a young girl with flowing golden hair, uncovers the wicked spell cast by a jealous witch.'},\n",
       "   {'text': \"Elle comprit alors qu'elle devait trouver un moyen de la vaincre pour briser le sort. Elle se retrouva dans une bataille magique avec la sorcière, utilisant tous ses sorts et ses potions pour la neutraliser\",\n",
       "    'image_desc': 'The determined woman engages in a magical battle with the sorceress, surrounded by swirling spells and potions.'},\n",
       "   {'text': \"Mais la sorcière était puissante et elle lança un sortilège qui l'emprisonna dans une cage de cristal\",\n",
       "    'image_desc': 'A powerful witch imprisons a character in a crystal cage with her spell.'},\n",
       "   {'text': \"Léa se demandait comment elle pourrait s'en sortir maintenant\",\n",
       "    'image_desc': 'Lea, a young woman with a worried expression on her face, sat alone at a dimly lit table in a crowded café, pondering her uncertain future.'}]},\n",
       " {'chapter_title': 'Chapitre 5: La victoire finale',\n",
       "  'paragraphs': [{'text': \"Alors qu'elle était prisonnière, Léa se souvint de toutes les leçons qu'elle avait apprises à l'école des sorciers\",\n",
       "    'image_desc': \"Imprisoned, Léa's mind wanders back to her days at the wizarding school, the dimly lit cell contrasting with the vivid memories of her magical education.\"},\n",
       "   {'text': 'Elle utilisa sa créativité et sa persévérance pour créer un sortilège de sauvetage. La cage de cristal commença à se fissurer puis à se briser en mille morceaux',\n",
       "    'image_desc': 'In a determined act of rescue, she used her creativity and persistence to create a spell, causing the crystal cage to crack and shatter into countless pieces.'},\n",
       "   {'text': 'Léa était libre et prête à affronter la sorcière jalouse une dernière fois. Elle lança son sortilège le plus puissant, emprisonnant la sorcière maléfique à son tour',\n",
       "    'image_desc': 'Léa, a defiant witch, casts her powerful spell, imprisoning the jealous sorceress in a dazzling burst of magic.'},\n",
       "   {'text': \"Le village était sauvé et Léa avait prouvé qu'elle était une sorcière talentueuse. Elle était maintenant prête à continuer sa formation et à réaliser tous ses rêves magiques\",\n",
       "    'image_desc': 'Léa, a talented witch, stood proudly in the saved village, ready to pursue her magical dreams.'}]}]"
      ]
     },
     "execution_count": 14,
     "metadata": {},
     "output_type": "execute_result"
    }
   ],
   "source": [
    "story_with_images_desc = list()\n",
    "for i, chapter in enumerate(formated_story):\n",
    "    chapter_title = chapter[0]\n",
    "    chapter_content = chapter[1]\n",
    "    chapter_item = dict()\n",
    "    chapter_item['chapter_title'] = chapter_title\n",
    "    chapter_item['paragraphs'] = list()\n",
    "    print(chapter_title)\n",
    "    for j, paragraph_text in enumerate(chapter_content):\n",
    "        paragraph_item = dict()\n",
    "        paragraph_item['text'] = paragraph_text\n",
    "        paragraph_item['image_desc'] = text_to_images_desc(paragraph_text)\n",
    "        chapter_item['paragraphs'].append(paragraph_item)\n",
    "    story_with_images_desc.append(chapter_item)\n",
    "story_with_images_desc\n",
    "        \n",
    "        \n"
   ]
  },
  {
   "cell_type": "markdown",
   "metadata": {},
   "source": [
    "# Gen images"
   ]
  },
  {
   "cell_type": "markdown",
   "metadata": {},
   "source": [
    "# dl models"
   ]
  },
  {
   "cell_type": "code",
   "execution_count": 15,
   "metadata": {},
   "outputs": [
    {
     "name": "stdout",
     "output_type": "stream",
     "text": [
      "--2023-11-19 14:17:12--  https://huggingface.co/h94/IP-Adapter/resolve/main/sdxl_models/ip-adapter-plus-face_sdxl_vit-h.bin\n",
      "Resolving huggingface.co (huggingface.co)... 52.84.90.33, 52.84.90.129, 52.84.90.106, ...\n",
      "Connecting to huggingface.co (huggingface.co)|52.84.90.33|:443... connected.\n",
      "HTTP request sent, awaiting response... 302 Found\n",
      "Location: https://cdn-lfs.huggingface.co/repos/6f/e5/6fe5d8840a1ab462e1b9f52fbeabac6bb30febaf56fb5a439f08cca6d1cf4372/50e886d82940b3c5873d80c2b06d8a4b0d0fccec70bc44fd53f16ac3cfd7fc36?response-content-disposition=attachment%3B+filename*%3DUTF-8%27%27ip-adapter-plus-face_sdxl_vit-h.bin%3B+filename%3D%22ip-adapter-plus-face_sdxl_vit-h.bin%22%3B&response-content-type=application%2Foctet-stream&Expires=1700661985&Policy=eyJTdGF0ZW1lbnQiOlt7IkNvbmRpdGlvbiI6eyJEYXRlTGVzc1RoYW4iOnsiQVdTOkVwb2NoVGltZSI6MTcwMDY2MTk4NX19LCJSZXNvdXJjZSI6Imh0dHBzOi8vY2RuLWxmcy5odWdnaW5nZmFjZS5jby9yZXBvcy82Zi9lNS82ZmU1ZDg4NDBhMWFiNDYyZTFiOWY1MmZiZWFiYWM2YmIzMGZlYmFmNTZmYjVhNDM5ZjA4Y2NhNmQxY2Y0MzcyLzUwZTg4NmQ4Mjk0MGIzYzU4NzNkODBjMmIwNmQ4YTRiMGQwZmNjZWM3MGJjNDRmZDUzZjE2YWMzY2ZkN2ZjMzY%7EcmVzcG9uc2UtY29udGVudC1kaXNwb3NpdGlvbj0qJnJlc3BvbnNlLWNvbnRlbnQtdHlwZT0qIn1dfQ__&Signature=gpUCDt72QB-fe4nu6c8J19SIYKPCvyVyE4ZA5wLjGlooYA9YvBs9EiPkWXjCMsuO259XtSoDefg6alMNxwu8NXsmTo4EEb2A5llEXRxuKuCbLNzfxZzv8qJ838FgOPHTAAyfetYSz3Cju4780z2nsmyqdy%7EL766m7f0f5zXQP7UlzVTa4sQigjW2GRp26Igz%7EnAEF5R0%7EI-WoK3fEYD20eOYQ8HNlDZCh%7Ea40doRqYW5ysyoZXyoRKbw4VQ%7ECKo0%7EaA%7EF9FAdN31cfLF2H1xKbK8zX-4DrGs0kKxNIZfgDbvkByHBm20DpvgTmkZAfq1wBMgtz9EM7Yxmw97S3WD9A__&Key-Pair-Id=KVTP0A1DKRTAX [following]\n",
      "--2023-11-19 14:17:12--  https://cdn-lfs.huggingface.co/repos/6f/e5/6fe5d8840a1ab462e1b9f52fbeabac6bb30febaf56fb5a439f08cca6d1cf4372/50e886d82940b3c5873d80c2b06d8a4b0d0fccec70bc44fd53f16ac3cfd7fc36?response-content-disposition=attachment%3B+filename*%3DUTF-8%27%27ip-adapter-plus-face_sdxl_vit-h.bin%3B+filename%3D%22ip-adapter-plus-face_sdxl_vit-h.bin%22%3B&response-content-type=application%2Foctet-stream&Expires=1700661985&Policy=eyJTdGF0ZW1lbnQiOlt7IkNvbmRpdGlvbiI6eyJEYXRlTGVzc1RoYW4iOnsiQVdTOkVwb2NoVGltZSI6MTcwMDY2MTk4NX19LCJSZXNvdXJjZSI6Imh0dHBzOi8vY2RuLWxmcy5odWdnaW5nZmFjZS5jby9yZXBvcy82Zi9lNS82ZmU1ZDg4NDBhMWFiNDYyZTFiOWY1MmZiZWFiYWM2YmIzMGZlYmFmNTZmYjVhNDM5ZjA4Y2NhNmQxY2Y0MzcyLzUwZTg4NmQ4Mjk0MGIzYzU4NzNkODBjMmIwNmQ4YTRiMGQwZmNjZWM3MGJjNDRmZDUzZjE2YWMzY2ZkN2ZjMzY%7EcmVzcG9uc2UtY29udGVudC1kaXNwb3NpdGlvbj0qJnJlc3BvbnNlLWNvbnRlbnQtdHlwZT0qIn1dfQ__&Signature=gpUCDt72QB-fe4nu6c8J19SIYKPCvyVyE4ZA5wLjGlooYA9YvBs9EiPkWXjCMsuO259XtSoDefg6alMNxwu8NXsmTo4EEb2A5llEXRxuKuCbLNzfxZzv8qJ838FgOPHTAAyfetYSz3Cju4780z2nsmyqdy%7EL766m7f0f5zXQP7UlzVTa4sQigjW2GRp26Igz%7EnAEF5R0%7EI-WoK3fEYD20eOYQ8HNlDZCh%7Ea40doRqYW5ysyoZXyoRKbw4VQ%7ECKo0%7EaA%7EF9FAdN31cfLF2H1xKbK8zX-4DrGs0kKxNIZfgDbvkByHBm20DpvgTmkZAfq1wBMgtz9EM7Yxmw97S3WD9A__&Key-Pair-Id=KVTP0A1DKRTAX\n",
      "Resolving cdn-lfs.huggingface.co (cdn-lfs.huggingface.co)... 52.222.174.30, 52.222.174.32, 52.222.174.3, ...\n",
      "Connecting to cdn-lfs.huggingface.co (cdn-lfs.huggingface.co)|52.222.174.30|:443... connected.\n",
      "HTTP request sent, awaiting response... 200 OK\n",
      "Length: 1013454761 (967M) [application/octet-stream]\n",
      "Saving to: ‘models/ip-adapter-plus-face_sdxl_vit-h.bin.1’\n",
      "\n",
      "ip-adapter-plus-fac 100%[===================>] 966.50M   109MB/s    in 9.8s    \n",
      "\n",
      "2023-11-19 14:17:22 (98.8 MB/s) - ‘models/ip-adapter-plus-face_sdxl_vit-h.bin.1’ saved [1013454761/1013454761]\n",
      "\n",
      "--2023-11-19 14:17:23--  https://huggingface.co/h94/IP-Adapter/resolve/main/models/image_encoder/pytorch_model.bin\n",
      "Resolving huggingface.co (huggingface.co)... 18.155.129.4, 18.155.129.60, 18.155.129.31, ...\n",
      "Connecting to huggingface.co (huggingface.co)|18.155.129.4|:443... connected.\n",
      "HTTP request sent, awaiting response... 302 Found\n",
      "Location: https://cdn-lfs.huggingface.co/repos/6f/e5/6fe5d8840a1ab462e1b9f52fbeabac6bb30febaf56fb5a439f08cca6d1cf4372/3d3ec1e66737f77a4f3bc2df3c52eacefc69ce7825e2784183b1d4e9877d9193?response-content-disposition=attachment%3B+filename*%3DUTF-8%27%27pytorch_model.bin%3B+filename%3D%22pytorch_model.bin%22%3B&response-content-type=application%2Foctet-stream&Expires=1700661489&Policy=eyJTdGF0ZW1lbnQiOlt7IkNvbmRpdGlvbiI6eyJEYXRlTGVzc1RoYW4iOnsiQVdTOkVwb2NoVGltZSI6MTcwMDY2MTQ4OX19LCJSZXNvdXJjZSI6Imh0dHBzOi8vY2RuLWxmcy5odWdnaW5nZmFjZS5jby9yZXBvcy82Zi9lNS82ZmU1ZDg4NDBhMWFiNDYyZTFiOWY1MmZiZWFiYWM2YmIzMGZlYmFmNTZmYjVhNDM5ZjA4Y2NhNmQxY2Y0MzcyLzNkM2VjMWU2NjczN2Y3N2E0ZjNiYzJkZjNjNTJlYWNlZmM2OWNlNzgyNWUyNzg0MTgzYjFkNGU5ODc3ZDkxOTM%7EcmVzcG9uc2UtY29udGVudC1kaXNwb3NpdGlvbj0qJnJlc3BvbnNlLWNvbnRlbnQtdHlwZT0qIn1dfQ__&Signature=LXcqaR71kvix4Y3k6Byxw2PIWOodjcnuKKXaAvFLR3mTU-KY3rzHIgjneb5McWSgX%7Ed4NRlMayz4T%7Eq8ZQLDPN6vmDB3OMySOO0O-DdUsnix5roPaKH53LYm28S3JZt6rt4leDSdV61qbmOJGFy8%7EztcqeE5KAWOM4JwnGyjhvGVEprqkICKJ7QjREyT3m01bQQ9QylyKeGEfiqJy6OoIWuSCsQ0SZmOcoz9Bj%7EAkoFW5JffcXmYBgYXEPiy3WrghqG-6RhsqnoL8hQ-7GqO3A2lLXtg9xWkDsAKIuvS0%7Em2PpCMchkLpFagGKPhF-hQlg0kXWxidPIG298IezZvNw__&Key-Pair-Id=KVTP0A1DKRTAX [following]\n",
      "--2023-11-19 14:17:23--  https://cdn-lfs.huggingface.co/repos/6f/e5/6fe5d8840a1ab462e1b9f52fbeabac6bb30febaf56fb5a439f08cca6d1cf4372/3d3ec1e66737f77a4f3bc2df3c52eacefc69ce7825e2784183b1d4e9877d9193?response-content-disposition=attachment%3B+filename*%3DUTF-8%27%27pytorch_model.bin%3B+filename%3D%22pytorch_model.bin%22%3B&response-content-type=application%2Foctet-stream&Expires=1700661489&Policy=eyJTdGF0ZW1lbnQiOlt7IkNvbmRpdGlvbiI6eyJEYXRlTGVzc1RoYW4iOnsiQVdTOkVwb2NoVGltZSI6MTcwMDY2MTQ4OX19LCJSZXNvdXJjZSI6Imh0dHBzOi8vY2RuLWxmcy5odWdnaW5nZmFjZS5jby9yZXBvcy82Zi9lNS82ZmU1ZDg4NDBhMWFiNDYyZTFiOWY1MmZiZWFiYWM2YmIzMGZlYmFmNTZmYjVhNDM5ZjA4Y2NhNmQxY2Y0MzcyLzNkM2VjMWU2NjczN2Y3N2E0ZjNiYzJkZjNjNTJlYWNlZmM2OWNlNzgyNWUyNzg0MTgzYjFkNGU5ODc3ZDkxOTM%7EcmVzcG9uc2UtY29udGVudC1kaXNwb3NpdGlvbj0qJnJlc3BvbnNlLWNvbnRlbnQtdHlwZT0qIn1dfQ__&Signature=LXcqaR71kvix4Y3k6Byxw2PIWOodjcnuKKXaAvFLR3mTU-KY3rzHIgjneb5McWSgX%7Ed4NRlMayz4T%7Eq8ZQLDPN6vmDB3OMySOO0O-DdUsnix5roPaKH53LYm28S3JZt6rt4leDSdV61qbmOJGFy8%7EztcqeE5KAWOM4JwnGyjhvGVEprqkICKJ7QjREyT3m01bQQ9QylyKeGEfiqJy6OoIWuSCsQ0SZmOcoz9Bj%7EAkoFW5JffcXmYBgYXEPiy3WrghqG-6RhsqnoL8hQ-7GqO3A2lLXtg9xWkDsAKIuvS0%7Em2PpCMchkLpFagGKPhF-hQlg0kXWxidPIG298IezZvNw__&Key-Pair-Id=KVTP0A1DKRTAX\n",
      "Resolving cdn-lfs.huggingface.co (cdn-lfs.huggingface.co)... 52.222.174.32, 52.222.174.30, 52.222.174.3, ...\n",
      "Connecting to cdn-lfs.huggingface.co (cdn-lfs.huggingface.co)|52.222.174.32|:443... connected.\n",
      "HTTP request sent, awaiting response... 200 OK\n",
      "Length: 2528481905 (2.4G) [application/octet-stream]\n",
      "Saving to: ‘models/image_encoder/pytorch_model.bin’\n",
      "\n",
      "models/image_encode 100%[===================>]   2.35G   109MB/s    in 22s     \n",
      "\n",
      "2023-11-19 14:17:46 (108 MB/s) - ‘models/image_encoder/pytorch_model.bin’ saved [2528481905/2528481905]\n",
      "\n",
      "--2023-11-19 14:17:47--  https://huggingface.co/h94/IP-Adapter/resolve/main/models/image_encoder/config.json\n",
      "Resolving huggingface.co (huggingface.co)... 52.84.90.33, 52.84.90.106, 52.84.90.122, ...\n",
      "Connecting to huggingface.co (huggingface.co)|52.84.90.33|:443... connected.\n",
      "HTTP request sent, awaiting response... 200 OK\n",
      "Length: 560 [text/plain]\n",
      "Saving to: ‘models/image_encoder/config.json’\n",
      "\n",
      "models/image_encode 100%[===================>]     560  --.-KB/s    in 0s      \n",
      "\n",
      "2023-11-19 14:17:47 (699 MB/s) - ‘models/image_encoder/config.json’ saved [560/560]\n",
      "\n"
     ]
    }
   ],
   "source": [
    "!mkdir -p models/image_encoder\n",
    "!wget -P models https://huggingface.co/h94/IP-Adapter/resolve/main/sdxl_models/ip-adapter-plus-face_sdxl_vit-h.bin\n",
    "!wget -O models/image_encoder/pytorch_model.bin https://huggingface.co/h94/IP-Adapter/resolve/main/models/image_encoder/pytorch_model.bin\n",
    "!wget -O models/image_encoder/config.json       https://huggingface.co/h94/IP-Adapter/resolve/main/models/image_encoder/config.json"
   ]
  },
  {
   "cell_type": "code",
   "execution_count": 16,
   "metadata": {},
   "outputs": [
    {
     "name": "stdout",
     "output_type": "stream",
     "text": [
      "Collecting git+https://github.com/tencent-ailab/IP-Adapter.git\n",
      "  Cloning https://github.com/tencent-ailab/IP-Adapter.git to /tmp/pip-req-build-nyy26ql7\n",
      "  Running command git clone --filter=blob:none --quiet https://github.com/tencent-ailab/IP-Adapter.git /tmp/pip-req-build-nyy26ql7\n",
      "  Resolved https://github.com/tencent-ailab/IP-Adapter.git to commit e317f750e1829e846c944b9fdd7a2f2842c46501\n",
      "  Installing build dependencies ... \u001b[?25ldone\n",
      "\u001b[?25h  Getting requirements to build wheel ... \u001b[?25ldone\n",
      "\u001b[?25h  Preparing metadata (pyproject.toml) ... \u001b[?25ldone\n",
      "\u001b[?25hRequirement already satisfied: accelerate in /usr/local/lib/python3.10/dist-packages (0.24.1)\n",
      "Requirement already satisfied: diffusers==0.22.1 in /usr/local/lib/python3.10/dist-packages (0.22.1)\n",
      "Requirement already satisfied: transformers in /usr/local/lib/python3.10/dist-packages (4.35.2)\n",
      "Requirement already satisfied: einops in /usr/local/lib/python3.10/dist-packages (0.7.0)\n",
      "Requirement already satisfied: Pillow in /usr/local/lib/python3.10/dist-packages (from diffusers==0.22.1) (9.3.0)\n",
      "Requirement already satisfied: filelock in /usr/local/lib/python3.10/dist-packages (from diffusers==0.22.1) (3.9.0)\n",
      "Requirement already satisfied: huggingface-hub>=0.13.2 in /usr/local/lib/python3.10/dist-packages (from diffusers==0.22.1) (0.19.4)\n",
      "Requirement already satisfied: importlib-metadata in /usr/lib/python3/dist-packages (from diffusers==0.22.1) (4.6.4)\n",
      "Requirement already satisfied: numpy in /usr/local/lib/python3.10/dist-packages (from diffusers==0.22.1) (1.24.1)\n",
      "Requirement already satisfied: regex!=2019.12.17 in /usr/local/lib/python3.10/dist-packages (from diffusers==0.22.1) (2023.10.3)\n",
      "Requirement already satisfied: requests in /usr/local/lib/python3.10/dist-packages (from diffusers==0.22.1) (2.31.0)\n",
      "Requirement already satisfied: safetensors>=0.3.1 in /usr/local/lib/python3.10/dist-packages (from diffusers==0.22.1) (0.4.0)\n",
      "Requirement already satisfied: packaging>=20.0 in /usr/local/lib/python3.10/dist-packages (from accelerate) (23.2)\n",
      "Requirement already satisfied: psutil in /usr/local/lib/python3.10/dist-packages (from accelerate) (5.9.6)\n",
      "Requirement already satisfied: pyyaml in /usr/local/lib/python3.10/dist-packages (from accelerate) (6.0.1)\n",
      "Requirement already satisfied: torch>=1.10.0 in /usr/local/lib/python3.10/dist-packages (from accelerate) (2.1.0+cu118)\n",
      "Requirement already satisfied: tokenizers<0.19,>=0.14 in /usr/local/lib/python3.10/dist-packages (from transformers) (0.15.0)\n",
      "Requirement already satisfied: tqdm>=4.27 in /usr/local/lib/python3.10/dist-packages (from transformers) (4.66.1)\n",
      "Requirement already satisfied: fsspec>=2023.5.0 in /usr/local/lib/python3.10/dist-packages (from huggingface-hub>=0.13.2->diffusers==0.22.1) (2023.10.0)\n",
      "Requirement already satisfied: typing-extensions>=3.7.4.3 in /usr/local/lib/python3.10/dist-packages (from huggingface-hub>=0.13.2->diffusers==0.22.1) (4.8.0)\n",
      "Requirement already satisfied: sympy in /usr/local/lib/python3.10/dist-packages (from torch>=1.10.0->accelerate) (1.12)\n",
      "Requirement already satisfied: networkx in /usr/local/lib/python3.10/dist-packages (from torch>=1.10.0->accelerate) (3.0)\n",
      "Requirement already satisfied: jinja2 in /usr/local/lib/python3.10/dist-packages (from torch>=1.10.0->accelerate) (3.1.2)\n",
      "Requirement already satisfied: triton==2.1.0 in /usr/local/lib/python3.10/dist-packages (from torch>=1.10.0->accelerate) (2.1.0)\n",
      "Requirement already satisfied: charset-normalizer<4,>=2 in /usr/local/lib/python3.10/dist-packages (from requests->diffusers==0.22.1) (2.1.1)\n",
      "Requirement already satisfied: idna<4,>=2.5 in /usr/local/lib/python3.10/dist-packages (from requests->diffusers==0.22.1) (3.4)\n",
      "Requirement already satisfied: urllib3<3,>=1.21.1 in /usr/local/lib/python3.10/dist-packages (from requests->diffusers==0.22.1) (1.26.13)\n",
      "Requirement already satisfied: certifi>=2017.4.17 in /usr/local/lib/python3.10/dist-packages (from requests->diffusers==0.22.1) (2022.12.7)\n",
      "Requirement already satisfied: MarkupSafe>=2.0 in /usr/local/lib/python3.10/dist-packages (from jinja2->torch>=1.10.0->accelerate) (2.1.2)\n",
      "Requirement already satisfied: mpmath>=0.19 in /usr/local/lib/python3.10/dist-packages (from sympy->torch>=1.10.0->accelerate) (1.3.0)\n",
      "\u001b[33mWARNING: Running pip as the 'root' user can result in broken permissions and conflicting behaviour with the system package manager. It is recommended to use a virtual environment instead: https://pip.pypa.io/warnings/venv\u001b[0m\u001b[33m\n",
      "\u001b[0m"
     ]
    }
   ],
   "source": [
    "!pip install accelerate diffusers==0.22.1 accelerate transformers einops git+https://github.com/tencent-ailab/IP-Adapter.git"
   ]
  },
  {
   "cell_type": "code",
   "execution_count": 5,
   "metadata": {},
   "outputs": [],
   "source": [
    "import torch\n",
    "from diffusers import StableDiffusionXLPipeline\n",
    "from PIL import Image\n",
    "\n",
    "from ip_adapter import IPAdapterPlusXL\n",
    "from ip_adapter.custom_pipelines import StableDiffusionXLCustomPipeline\n"
   ]
  },
  {
   "cell_type": "code",
   "execution_count": 2,
   "metadata": {},
   "outputs": [],
   "source": [
    "image = Image.open(\"my_phil_ip.png\")"
   ]
  },
  {
   "cell_type": "code",
   "execution_count": 3,
   "metadata": {},
   "outputs": [
    {
     "data": {
      "application/vnd.jupyter.widget-view+json": {
       "model_id": "66923d3c7443474a8eb71d6bf496edfe",
       "version_major": 2,
       "version_minor": 0
      },
      "text/plain": [
       "Loading pipeline components...:   0%|          | 0/7 [00:00<?, ?it/s]"
      ]
     },
     "metadata": {},
     "output_type": "display_data"
    },
    {
     "data": {
      "application/vnd.jupyter.widget-view+json": {
       "model_id": "2797a4d79c9a489c86aaf6381b08511a",
       "version_major": 2,
       "version_minor": 0
      },
      "text/plain": [
       "pytorch_lora_weights.safetensors:   0%|          | 0.00/394M [00:00<?, ?B/s]"
      ]
     },
     "metadata": {},
     "output_type": "display_data"
    },
    {
     "name": "stderr",
     "output_type": "stream",
     "text": [
      "The config attributes {'skip_prk_steps': True} were passed to LCMScheduler, but are not expected and will be ignored. Please verify your scheduler_config.json configuration file.\n"
     ]
    },
    {
     "ename": "AttributeError",
     "evalue": "'UNet2DConditionModel' object has no attribute 'attn_processors'",
     "output_type": "error",
     "traceback": [
      "\u001b[0;31m---------------------------------------------------------------------------\u001b[0m",
      "\u001b[0;31mAttributeError\u001b[0m                            Traceback (most recent call last)",
      "\u001b[1;32m/workspace/My-Story-Time/back/notebooks/story-image-generation.ipynb Cell 19\u001b[0m line \u001b[0;36m1\n\u001b[1;32m      <a href='vscode-notebook-cell://ssh-remote%2B80.124.71.134/workspace/My-Story-Time/back/notebooks/story-image-generation.ipynb#X23sdnNjb2RlLXJlbW90ZQ%3D%3D?line=8'>9</a>\u001b[0m pipe\u001b[39m.\u001b[39mscheduler \u001b[39m=\u001b[39m LCMScheduler\u001b[39m.\u001b[39mfrom_config(pipe\u001b[39m.\u001b[39mscheduler\u001b[39m.\u001b[39mconfig)\n\u001b[1;32m     <a href='vscode-notebook-cell://ssh-remote%2B80.124.71.134/workspace/My-Story-Time/back/notebooks/story-image-generation.ipynb#X23sdnNjb2RlLXJlbW90ZQ%3D%3D?line=10'>11</a>\u001b[0m \u001b[39m# load ip-adapter\u001b[39;00m\n\u001b[0;32m---> <a href='vscode-notebook-cell://ssh-remote%2B80.124.71.134/workspace/My-Story-Time/back/notebooks/story-image-generation.ipynb#X23sdnNjb2RlLXJlbW90ZQ%3D%3D?line=11'>12</a>\u001b[0m ip_model \u001b[39m=\u001b[39m IPAdapterPlusXL(pipe, \u001b[39m\"\u001b[39;49m\u001b[39mmodels/image_encoder\u001b[39;49m\u001b[39m\"\u001b[39;49m, \n\u001b[1;32m     <a href='vscode-notebook-cell://ssh-remote%2B80.124.71.134/workspace/My-Story-Time/back/notebooks/story-image-generation.ipynb#X23sdnNjb2RlLXJlbW90ZQ%3D%3D?line=12'>13</a>\u001b[0m                            \u001b[39m\"\u001b[39;49m\u001b[39m./models/ip-adapter-plus-face_sdxl_vit-h.bin\u001b[39;49m\u001b[39m\"\u001b[39;49m, \n\u001b[1;32m     <a href='vscode-notebook-cell://ssh-remote%2B80.124.71.134/workspace/My-Story-Time/back/notebooks/story-image-generation.ipynb#X23sdnNjb2RlLXJlbW90ZQ%3D%3D?line=13'>14</a>\u001b[0m                            \u001b[39m\"\u001b[39;49m\u001b[39mcuda\u001b[39;49m\u001b[39m\"\u001b[39;49m, num_tokens\u001b[39m=\u001b[39;49m\u001b[39m16\u001b[39;49m)\n",
      "File \u001b[0;32m/usr/local/lib/python3.10/dist-packages/ip_adapter/ip_adapter.py:83\u001b[0m, in \u001b[0;36mIPAdapter.__init__\u001b[0;34m(self, sd_pipe, image_encoder_path, ip_ckpt, device, num_tokens)\u001b[0m\n\u001b[1;32m     80\u001b[0m \u001b[39m# image proj model\u001b[39;00m\n\u001b[1;32m     81\u001b[0m \u001b[39mself\u001b[39m\u001b[39m.\u001b[39mimage_proj_model \u001b[39m=\u001b[39m \u001b[39mself\u001b[39m\u001b[39m.\u001b[39minit_proj()\n\u001b[0;32m---> 83\u001b[0m \u001b[39mself\u001b[39;49m\u001b[39m.\u001b[39;49mload_ip_adapter()\n",
      "File \u001b[0;32m/usr/local/lib/python3.10/dist-packages/ip_adapter/ip_adapter.py:135\u001b[0m, in \u001b[0;36mIPAdapter.load_ip_adapter\u001b[0;34m(self)\u001b[0m\n\u001b[1;32m    133\u001b[0m     state_dict \u001b[39m=\u001b[39m torch\u001b[39m.\u001b[39mload(\u001b[39mself\u001b[39m\u001b[39m.\u001b[39mip_ckpt, map_location\u001b[39m=\u001b[39m\u001b[39m\"\u001b[39m\u001b[39mcpu\u001b[39m\u001b[39m\"\u001b[39m)\n\u001b[1;32m    134\u001b[0m \u001b[39mself\u001b[39m\u001b[39m.\u001b[39mimage_proj_model\u001b[39m.\u001b[39mload_state_dict(state_dict[\u001b[39m\"\u001b[39m\u001b[39mimage_proj\u001b[39m\u001b[39m\"\u001b[39m])\n\u001b[0;32m--> 135\u001b[0m ip_layers \u001b[39m=\u001b[39m torch\u001b[39m.\u001b[39mnn\u001b[39m.\u001b[39mModuleList(\u001b[39mself\u001b[39;49m\u001b[39m.\u001b[39;49mpipe\u001b[39m.\u001b[39;49munet\u001b[39m.\u001b[39;49mattn_processors\u001b[39m.\u001b[39mvalues())\n\u001b[1;32m    136\u001b[0m ip_layers\u001b[39m.\u001b[39mload_state_dict(state_dict[\u001b[39m\"\u001b[39m\u001b[39mip_adapter\u001b[39m\u001b[39m\"\u001b[39m])\n",
      "File \u001b[0;32m/usr/local/lib/python3.10/dist-packages/diffusers/models/modeling_utils.py:221\u001b[0m, in \u001b[0;36mModelMixin.__getattr__\u001b[0;34m(self, name)\u001b[0m\n\u001b[1;32m    218\u001b[0m     \u001b[39mreturn\u001b[39;00m \u001b[39mself\u001b[39m\u001b[39m.\u001b[39m_internal_dict[name]\n\u001b[1;32m    220\u001b[0m \u001b[39m# call PyTorch's https://pytorch.org/docs/stable/_modules/torch/nn/modules/module.html#Module\u001b[39;00m\n\u001b[0;32m--> 221\u001b[0m \u001b[39mreturn\u001b[39;00m \u001b[39msuper\u001b[39;49m()\u001b[39m.\u001b[39;49m\u001b[39m__getattr__\u001b[39;49m(name)\n",
      "File \u001b[0;32m/usr/local/lib/python3.10/dist-packages/torch/nn/modules/module.py:1695\u001b[0m, in \u001b[0;36mModule.__getattr__\u001b[0;34m(self, name)\u001b[0m\n\u001b[1;32m   1693\u001b[0m     \u001b[39mif\u001b[39;00m name \u001b[39min\u001b[39;00m modules:\n\u001b[1;32m   1694\u001b[0m         \u001b[39mreturn\u001b[39;00m modules[name]\n\u001b[0;32m-> 1695\u001b[0m \u001b[39mraise\u001b[39;00m \u001b[39mAttributeError\u001b[39;00m(\u001b[39mf\u001b[39m\u001b[39m\"\u001b[39m\u001b[39m'\u001b[39m\u001b[39m{\u001b[39;00m\u001b[39mtype\u001b[39m(\u001b[39mself\u001b[39m)\u001b[39m.\u001b[39m\u001b[39m__name__\u001b[39m\u001b[39m}\u001b[39;00m\u001b[39m'\u001b[39m\u001b[39m object has no attribute \u001b[39m\u001b[39m'\u001b[39m\u001b[39m{\u001b[39;00mname\u001b[39m}\u001b[39;00m\u001b[39m'\u001b[39m\u001b[39m\"\u001b[39m)\n",
      "\u001b[0;31mAttributeError\u001b[0m: 'UNet2DConditionModel' object has no attribute 'attn_processors'"
     ]
    }
   ],
   "source": [
    "# load SDXL pipeline\n",
    "pipe = StableDiffusionXLCustomPipeline.from_pretrained(\n",
    "    \"stabilityai/stable-diffusion-xl-base-1.0\",\n",
    "    torch_dtype=torch.float16,\n",
    "    add_watermarker=False,\n",
    ")\n",
    "# load ip-adapter\n",
    "ip_model = IPAdapterPlusXL(pipe, \"models/image_encoder\", \n",
    "                           \"./models/ip-adapter-plus-face_sdxl_vit-h.bin\", \n",
    "                           \"cuda\", num_tokens=16)"
   ]
  },
  {
   "cell_type": "code",
   "execution_count": 5,
   "metadata": {},
   "outputs": [],
   "source": [
    "def generate_picture(image, image_desc):\n",
    "    prompt = f\"{image_desc}, in a children cartoon style.\"\n",
    "    images = ip_model.generate(pil_image=image, num_samples=1, num_inference_steps=30,\n",
    "                           prompt=prompt, scale=0.4)\n",
    "    return images[0]"
   ]
  },
  {
   "cell_type": "code",
   "execution_count": 23,
   "metadata": {},
   "outputs": [],
   "source": [
    "\n",
    "def add_pictures_to_story(story_with_images_desc, image):\n",
    "\n",
    "    for chapter in story_with_images_desc:\n",
    "        print(f'done with chapter {chapter[\"chapter_title\"]}')\n",
    "        for paragraph in chapter['paragraphs']:\n",
    "            paragraph['image'] = generate_picture(image, paragraph['image_desc'])\n",
    "    return story_with_images_desc"
   ]
  },
  {
   "cell_type": "code",
   "execution_count": 24,
   "metadata": {},
   "outputs": [
    {
     "data": {
      "application/vnd.jupyter.widget-view+json": {
       "model_id": "8e21f99a22ed42a0a29b632d4c5c8ee5",
       "version_major": 2,
       "version_minor": 0
      },
      "text/plain": [
       "  0%|          | 0/30 [00:00<?, ?it/s]"
      ]
     },
     "metadata": {},
     "output_type": "display_data"
    },
    {
     "name": "stdout",
     "output_type": "stream",
     "text": [
      "done with chapter Chapitre 1: Léa et son rêve de devenir sorcière paragraph Léa était une petite fille ordinaire, mais elle rêvait de devenir une sorcière puissante. Chaque nuit, elle s'endormait en imaginant des sorts spectaculaires et des potions magiques\n"
     ]
    },
    {
     "data": {
      "application/vnd.jupyter.widget-view+json": {
       "model_id": "37156e8adbda46e0a695ac682d46dcaf",
       "version_major": 2,
       "version_minor": 0
      },
      "text/plain": [
       "  0%|          | 0/30 [00:00<?, ?it/s]"
      ]
     },
     "metadata": {},
     "output_type": "display_data"
    },
    {
     "name": "stdout",
     "output_type": "stream",
     "text": [
      "done with chapter Chapitre 1: Léa et son rêve de devenir sorcière paragraph Un matin, alors qu'elle se réveillait, une lettre mystérieuse glissa par la fente de sa porte. Elle était invitée à rejoindre l'école des sorciers pour y suivre sa formation\n"
     ]
    },
    {
     "data": {
      "application/vnd.jupyter.widget-view+json": {
       "model_id": "4e6c552863d44786a09717d3bbda43a1",
       "version_major": 2,
       "version_minor": 0
      },
      "text/plain": [
       "  0%|          | 0/30 [00:00<?, ?it/s]"
      ]
     },
     "metadata": {},
     "output_type": "display_data"
    },
    {
     "name": "stdout",
     "output_type": "stream",
     "text": [
      "done with chapter Chapitre 1: Léa et son rêve de devenir sorcière paragraph Léa était remplie de joie, mais elle savait qu'elle devait prouver ses compétences pour gagner sa place\n"
     ]
    },
    {
     "data": {
      "application/vnd.jupyter.widget-view+json": {
       "model_id": "4fe2f7aeca83491bb8b25fd702215ed9",
       "version_major": 2,
       "version_minor": 0
      },
      "text/plain": [
       "  0%|          | 0/30 [00:00<?, ?it/s]"
      ]
     },
     "metadata": {},
     "output_type": "display_data"
    },
    {
     "name": "stdout",
     "output_type": "stream",
     "text": [
      "done with chapter Chapitre 1: Léa et son rêve de devenir sorcière paragraph Quelle épreuve l'attendait-elle ?\n"
     ]
    },
    {
     "data": {
      "application/vnd.jupyter.widget-view+json": {
       "model_id": "0db798601d7b4ff0a9fdb30ceba34052",
       "version_major": 2,
       "version_minor": 0
      },
      "text/plain": [
       "  0%|          | 0/30 [00:00<?, ?it/s]"
      ]
     },
     "metadata": {},
     "output_type": "display_data"
    },
    {
     "name": "stdout",
     "output_type": "stream",
     "text": [
      "done with chapter Chapitre 2: Le premier test inattendu paragraph Léa se rendit à l'école des sorciers, pleine d'excitation et de nervosité. Elle fut accueillie par le professeur Merlin, qui lui dit qu'elle devait prouver sa valeur en sauvant son propre village d'un sortilège maléfique\n"
     ]
    },
    {
     "data": {
      "application/vnd.jupyter.widget-view+json": {
       "model_id": "0aed6caa922247f9bf25aa0c357e7f50",
       "version_major": 2,
       "version_minor": 0
      },
      "text/plain": [
       "  0%|          | 0/30 [00:00<?, ?it/s]"
      ]
     },
     "metadata": {},
     "output_type": "display_data"
    },
    {
     "name": "stdout",
     "output_type": "stream",
     "text": [
      "done with chapter Chapitre 2: Le premier test inattendu paragraph Elle n'avait aucune idée de ce qui l'attendait, mais elle était déterminée à réussir. Elle se prépara pour sa première épreuve avec courage et détermination\n"
     ]
    },
    {
     "data": {
      "application/vnd.jupyter.widget-view+json": {
       "model_id": "e6fb36b210fd40a9bfc7a74bb7d605f3",
       "version_major": 2,
       "version_minor": 0
      },
      "text/plain": [
       "  0%|          | 0/30 [00:00<?, ?it/s]"
      ]
     },
     "metadata": {},
     "output_type": "display_data"
    },
    {
     "name": "stdout",
     "output_type": "stream",
     "text": [
      "done with chapter Chapitre 3: Le pouvoir des épreuves paragraph Léa entra dans son village, maintenant couvert d'une épaisse brume magique. Elle se fraya un chemin à travers les rues sombres et sinistres, cherchant des indices sur le sortilège maléfique\n"
     ]
    },
    {
     "data": {
      "application/vnd.jupyter.widget-view+json": {
       "model_id": "eb591f90b2d849eb95c988d11db818a9",
       "version_major": 2,
       "version_minor": 0
      },
      "text/plain": [
       "  0%|          | 0/30 [00:00<?, ?it/s]"
      ]
     },
     "metadata": {},
     "output_type": "display_data"
    },
    {
     "name": "stdout",
     "output_type": "stream",
     "text": [
      "done with chapter Chapitre 3: Le pouvoir des épreuves paragraph Soudain, elle entendit un bruit mystérieux venant de derrière elle. Elle se retourna et vit une horde de corbeaux sombres qui s'envolèrent du sol\n"
     ]
    },
    {
     "data": {
      "application/vnd.jupyter.widget-view+json": {
       "model_id": "b0614455d2a54b2a884bfdb56868b9fd",
       "version_major": 2,
       "version_minor": 0
      },
      "text/plain": [
       "  0%|          | 0/30 [00:00<?, ?it/s]"
      ]
     },
     "metadata": {},
     "output_type": "display_data"
    },
    {
     "name": "stdout",
     "output_type": "stream",
     "text": [
      "done with chapter Chapitre 3: Le pouvoir des épreuves paragraph Ils semblaient vouloir l'empêcher d'avancer. Léa sut alors que les épreuves ne seraient pas faciles, mais elle était prête à affronter tous les obstacles pour sauver son village bien-aimé\n"
     ]
    },
    {
     "data": {
      "application/vnd.jupyter.widget-view+json": {
       "model_id": "6657615629bf44548a9307d2c9da8a2d",
       "version_major": 2,
       "version_minor": 0
      },
      "text/plain": [
       "  0%|          | 0/30 [00:00<?, ?it/s]"
      ]
     },
     "metadata": {},
     "output_type": "display_data"
    },
    {
     "name": "stdout",
     "output_type": "stream",
     "text": [
      "done with chapter Chapitre 4: La révélation des vérités paragraph Léa découvrit que le sortilège maléfique avait été jeté par une sorcière jalouse qui enviait son talent\n"
     ]
    },
    {
     "data": {
      "application/vnd.jupyter.widget-view+json": {
       "model_id": "02f77ae8d76c403e97be35a757bda8d6",
       "version_major": 2,
       "version_minor": 0
      },
      "text/plain": [
       "  0%|          | 0/30 [00:00<?, ?it/s]"
      ]
     },
     "metadata": {},
     "output_type": "display_data"
    },
    {
     "name": "stdout",
     "output_type": "stream",
     "text": [
      "done with chapter Chapitre 4: La révélation des vérités paragraph Elle comprit alors qu'elle devait trouver un moyen de la vaincre pour briser le sort. Elle se retrouva dans une bataille magique avec la sorcière, utilisant tous ses sorts et ses potions pour la neutraliser\n"
     ]
    },
    {
     "data": {
      "application/vnd.jupyter.widget-view+json": {
       "model_id": "ac5e37f9da19441ca111b476384d9683",
       "version_major": 2,
       "version_minor": 0
      },
      "text/plain": [
       "  0%|          | 0/30 [00:00<?, ?it/s]"
      ]
     },
     "metadata": {},
     "output_type": "display_data"
    },
    {
     "name": "stdout",
     "output_type": "stream",
     "text": [
      "done with chapter Chapitre 4: La révélation des vérités paragraph Mais la sorcière était puissante et elle lança un sortilège qui l'emprisonna dans une cage de cristal\n"
     ]
    },
    {
     "data": {
      "application/vnd.jupyter.widget-view+json": {
       "model_id": "c76c616362dd4977ad77df9e1fa9dcec",
       "version_major": 2,
       "version_minor": 0
      },
      "text/plain": [
       "  0%|          | 0/30 [00:00<?, ?it/s]"
      ]
     },
     "metadata": {},
     "output_type": "display_data"
    },
    {
     "name": "stdout",
     "output_type": "stream",
     "text": [
      "done with chapter Chapitre 4: La révélation des vérités paragraph Léa se demandait comment elle pourrait s'en sortir maintenant\n"
     ]
    },
    {
     "data": {
      "application/vnd.jupyter.widget-view+json": {
       "model_id": "9faf3d8ac84f44658e182f10b372ee2f",
       "version_major": 2,
       "version_minor": 0
      },
      "text/plain": [
       "  0%|          | 0/30 [00:00<?, ?it/s]"
      ]
     },
     "metadata": {},
     "output_type": "display_data"
    },
    {
     "name": "stdout",
     "output_type": "stream",
     "text": [
      "done with chapter Chapitre 5: La victoire finale paragraph Alors qu'elle était prisonnière, Léa se souvint de toutes les leçons qu'elle avait apprises à l'école des sorciers\n"
     ]
    },
    {
     "data": {
      "application/vnd.jupyter.widget-view+json": {
       "model_id": "3b2bf639b1ce48ca9251e21633eed753",
       "version_major": 2,
       "version_minor": 0
      },
      "text/plain": [
       "  0%|          | 0/30 [00:00<?, ?it/s]"
      ]
     },
     "metadata": {},
     "output_type": "display_data"
    },
    {
     "name": "stdout",
     "output_type": "stream",
     "text": [
      "done with chapter Chapitre 5: La victoire finale paragraph Elle utilisa sa créativité et sa persévérance pour créer un sortilège de sauvetage. La cage de cristal commença à se fissurer puis à se briser en mille morceaux\n"
     ]
    },
    {
     "data": {
      "application/vnd.jupyter.widget-view+json": {
       "model_id": "24020d1fa5c1444f83399fbb4674bb4a",
       "version_major": 2,
       "version_minor": 0
      },
      "text/plain": [
       "  0%|          | 0/30 [00:00<?, ?it/s]"
      ]
     },
     "metadata": {},
     "output_type": "display_data"
    },
    {
     "name": "stdout",
     "output_type": "stream",
     "text": [
      "done with chapter Chapitre 5: La victoire finale paragraph Léa était libre et prête à affronter la sorcière jalouse une dernière fois. Elle lança son sortilège le plus puissant, emprisonnant la sorcière maléfique à son tour\n"
     ]
    },
    {
     "data": {
      "application/vnd.jupyter.widget-view+json": {
       "model_id": "7223a64ce8ac44ddb04017a803465171",
       "version_major": 2,
       "version_minor": 0
      },
      "text/plain": [
       "  0%|          | 0/30 [00:00<?, ?it/s]"
      ]
     },
     "metadata": {},
     "output_type": "display_data"
    },
    {
     "name": "stdout",
     "output_type": "stream",
     "text": [
      "done with chapter Chapitre 5: La victoire finale paragraph Le village était sauvé et Léa avait prouvé qu'elle était une sorcière talentueuse. Elle était maintenant prête à continuer sa formation et à réaliser tous ses rêves magiques\n"
     ]
    }
   ],
   "source": [
    "story_with_images_desc = add_pictures_to_story(story_with_images_desc, image)"
   ]
  },
  {
   "cell_type": "markdown",
   "metadata": {},
   "source": [
    "# Create story album"
   ]
  },
  {
   "cell_type": "code",
   "execution_count": 1,
   "metadata": {},
   "outputs": [
    {
     "name": "stdout",
     "output_type": "stream",
     "text": [
      "Collecting python-docx\n",
      "  Downloading python_docx-1.1.0-py3-none-any.whl.metadata (2.0 kB)\n",
      "Requirement already satisfied: lxml>=3.1.0 in /usr/local/lib/python3.10/dist-packages (from python-docx) (4.9.3)\n",
      "Requirement already satisfied: typing-extensions in /usr/local/lib/python3.10/dist-packages (from python-docx) (4.8.0)\n",
      "Downloading python_docx-1.1.0-py3-none-any.whl (239 kB)\n",
      "\u001b[2K   \u001b[90m━━━━━━━━━━━━━━━━━━━━━━━━━━━━━━━━━━━━━━━━\u001b[0m \u001b[32m239.6/239.6 kB\u001b[0m \u001b[31m3.4 MB/s\u001b[0m eta \u001b[36m0:00:00\u001b[0m \u001b[36m0:00:01\u001b[0m\n",
      "\u001b[?25hInstalling collected packages: python-docx\n",
      "Successfully installed python-docx-1.1.0\n",
      "\u001b[33mWARNING: Running pip as the 'root' user can result in broken permissions and conflicting behaviour with the system package manager. It is recommended to use a virtual environment instead: https://pip.pypa.io/warnings/venv\u001b[0m\u001b[33m\n",
      "\u001b[0m"
     ]
    }
   ],
   "source": [
    "!pip install python-docx"
   ]
  },
  {
   "cell_type": "code",
   "execution_count": 28,
   "metadata": {},
   "outputs": [],
   "source": [
    "from docx import Document\n",
    "from docx.shared import Inches\n",
    "from io import BytesIO"
   ]
  },
  {
   "cell_type": "code",
   "execution_count": 32,
   "metadata": {},
   "outputs": [],
   "source": [
    "document = Document()\n",
    "for chapter in story_with_images_desc:\n",
    "    document.add_heading(chapter['chapter_title'], level=1)\n",
    "    for paragraph in chapter['paragraphs']:\n",
    "        document.add_paragraph(paragraph[\"text\"])\n",
    "        image_buffer = BytesIO()\n",
    "        paragraph['image'].save(image_buffer, format='png')\n",
    "        document.add_picture(image_buffer, width=Inches(6.0))\n",
    "        document.add_page_break()\n",
    "document.save('story.docx')\n"
   ]
  },
  {
   "cell_type": "code",
   "execution_count": null,
   "metadata": {},
   "outputs": [],
   "source": []
  },
  {
   "cell_type": "markdown",
   "metadata": {},
   "source": [
    "# RUNPOD imagen"
   ]
  },
  {
   "cell_type": "code",
   "execution_count": 20,
   "metadata": {},
   "outputs": [
    {
     "data": {
      "text/plain": [
       "True"
      ]
     },
     "execution_count": 20,
     "metadata": {},
     "output_type": "execute_result"
    }
   ],
   "source": [
    "import dotenv\n",
    "import os\n",
    "import requests\n",
    "import json\n",
    "import base64\n",
    "dotenv.load_dotenv('../functions/.env')"
   ]
  },
  {
   "cell_type": "code",
   "execution_count": 13,
   "metadata": {},
   "outputs": [],
   "source": [
    "endpoint_url = \"https://api.runpod.ai/v2/yfhto9s0koswbt/runsync\"\n",
    "endpoint_key = os.getenv(\"RUNPOD_API_KEY\")\n",
    "workflow = json.load(open(\"workflow.json\", \"r\"))\n"
   ]
  },
  {
   "cell_type": "code",
   "execution_count": 14,
   "metadata": {},
   "outputs": [],
   "source": [
    "# send post request to runpod api with bearer token and workflow\n",
    "headers = {'Authorization': f'Bearer {endpoint_key}'}\n",
    "response = requests.post(endpoint_url, headers=headers, json=workflow)"
   ]
  },
  {
   "cell_type": "code",
   "execution_count": 24,
   "metadata": {},
   "outputs": [],
   "source": [
    "data_out = response.json()\n",
    "b64_image = data_out['output']['message']\n",
    "#save image\n",
    "with open(\"comfy_image.png\", \"wb\") as fh:\n",
    "    fh.write(base64.b64decode(b64_image[len(\"data:image/png;base64,\") :]))"
   ]
  }
 ],
 "metadata": {
  "kernelspec": {
   "display_name": "Python 3",
   "language": "python",
   "name": "python3"
  },
  "language_info": {
   "codemirror_mode": {
    "name": "ipython",
    "version": 3
   },
   "file_extension": ".py",
   "mimetype": "text/x-python",
   "name": "python",
   "nbconvert_exporter": "python",
   "pygments_lexer": "ipython3",
   "version": "3.11.2"
  }
 },
 "nbformat": 4,
 "nbformat_minor": 2
}
