{
 "cells": [
  {
   "cell_type": "code",
   "execution_count": 1,
   "metadata": {},
   "outputs": [
    {
     "name": "stdout",
     "output_type": "stream",
     "text": [
      "Requirement already satisfied: openai in /usr/local/python/3.10.8/lib/python3.10/site-packages (1.2.4)\n",
      "Requirement already satisfied: python-dotenv in /usr/local/python/3.10.8/lib/python3.10/site-packages (1.0.0)\n",
      "Requirement already satisfied: anyio<4,>=3.5.0 in /usr/local/python/3.10.8/lib/python3.10/site-packages (from openai) (3.7.1)\n",
      "Requirement already satisfied: distro<2,>=1.7.0 in /usr/local/python/3.10.8/lib/python3.10/site-packages (from openai) (1.8.0)\n",
      "Requirement already satisfied: httpx<1,>=0.23.0 in /usr/local/python/3.10.8/lib/python3.10/site-packages (from openai) (0.25.1)\n",
      "Requirement already satisfied: pydantic<3,>=1.9.0 in /usr/local/python/3.10.8/lib/python3.10/site-packages (from openai) (2.5.1)\n",
      "Requirement already satisfied: tqdm>4 in /usr/local/python/3.10.8/lib/python3.10/site-packages (from openai) (4.66.1)\n",
      "Requirement already satisfied: typing-extensions<5,>=4.5 in /home/codespace/.local/lib/python3.10/site-packages (from openai) (4.8.0)\n",
      "Requirement already satisfied: idna>=2.8 in /home/codespace/.local/lib/python3.10/site-packages (from anyio<4,>=3.5.0->openai) (3.4)\n",
      "Requirement already satisfied: sniffio>=1.1 in /home/codespace/.local/lib/python3.10/site-packages (from anyio<4,>=3.5.0->openai) (1.3.0)\n",
      "Requirement already satisfied: exceptiongroup in /home/codespace/.local/lib/python3.10/site-packages (from anyio<4,>=3.5.0->openai) (1.1.3)\n",
      "Requirement already satisfied: certifi in /home/codespace/.local/lib/python3.10/site-packages (from httpx<1,>=0.23.0->openai) (2023.7.22)\n",
      "Requirement already satisfied: httpcore in /usr/local/python/3.10.8/lib/python3.10/site-packages (from httpx<1,>=0.23.0->openai) (1.0.2)\n",
      "Requirement already satisfied: annotated-types>=0.4.0 in /usr/local/python/3.10.8/lib/python3.10/site-packages (from pydantic<3,>=1.9.0->openai) (0.6.0)\n",
      "Requirement already satisfied: pydantic-core==2.14.3 in /usr/local/python/3.10.8/lib/python3.10/site-packages (from pydantic<3,>=1.9.0->openai) (2.14.3)\n",
      "Requirement already satisfied: h11<0.15,>=0.13 in /usr/local/python/3.10.8/lib/python3.10/site-packages (from httpcore->httpx<1,>=0.23.0->openai) (0.14.0)\n",
      "\n",
      "\u001b[1m[\u001b[0m\u001b[34;49mnotice\u001b[0m\u001b[1;39;49m]\u001b[0m\u001b[39;49m A new release of pip is available: \u001b[0m\u001b[31;49m23.3\u001b[0m\u001b[39;49m -> \u001b[0m\u001b[32;49m23.3.1\u001b[0m\n",
      "\u001b[1m[\u001b[0m\u001b[34;49mnotice\u001b[0m\u001b[1;39;49m]\u001b[0m\u001b[39;49m To update, run: \u001b[0m\u001b[32;49mpython -m pip install --upgrade pip\u001b[0m\n"
     ]
    }
   ],
   "source": [
    "!pip install openai python-dotenv"
   ]
  },
  {
   "cell_type": "code",
   "execution_count": 2,
   "metadata": {},
   "outputs": [
    {
     "data": {
      "text/plain": [
       "True"
      ]
     },
     "execution_count": 2,
     "metadata": {},
     "output_type": "execute_result"
    }
   ],
   "source": [
    "import dotenv\n",
    "import openai\n",
    "import re\n",
    "dotenv.load_dotenv('../.env')"
   ]
  },
  {
   "cell_type": "code",
   "execution_count": 56,
   "metadata": {},
   "outputs": [],
   "source": [
    "hero_name = \"Léa\"\n",
    "story_idea = \"une jeune sorcière en formation qui doit prouver ses compétences en sauvant son village d'un sortilège maléfique\"\n",
    "instructions = \"\"\"\n",
    "Consignes:\n",
    "Un chapitre doit être court et se terminer par un cliffhanger.\n",
    "Un Chapitre est divisé en plusieurs court paragraphes.\n",
    "Un paragraphes contient Deux phrases au maximum.\"\"\"\n",
    "imagen_instructions = \"\"\"-----\n",
    "Write a very short one sentence visual description of the scene. Include a very short description of the character and its environnement. Keep it short and simple.\"\"\""
   ]
  },
  {
   "cell_type": "code",
   "execution_count": 12,
   "metadata": {},
   "outputs": [],
   "source": [
    "def generate_prompt(story_idea, hero_name, instructions):\n",
    "    prompt = f\"\"\"Ecris une histoire pour enfant composée de 5 chapitres.\n",
    "{story_idea}\n",
    "Personnage principal: {hero_name}\n",
    "{instructions}\n",
    "\"\"\"\n",
    "    return prompt"
   ]
  },
  {
   "cell_type": "code",
   "execution_count": 13,
   "metadata": {},
   "outputs": [],
   "source": [
    "def generate_story(story_idea, hero_name, instructions):\n",
    "    prompt = generate_prompt(story_idea, hero_name, instructions)\n",
    "    response = openai.chat.completions.create(\n",
    "        model=\"gpt-3.5-turbo\",\n",
    "        messages=[{\"role\":\"user\", \"content\": prompt}]\n",
    "    )\n",
    "    full_text = response.choices[0].message.content\n",
    "    return full_text"
   ]
  },
  {
   "cell_type": "code",
   "execution_count": 14,
   "metadata": {},
   "outputs": [
    {
     "name": "stdout",
     "output_type": "stream",
     "text": [
      "Chapitre 1: Les débuts de Léa\n",
      "\n",
      "Léa, une jeune sorcière en formation, vivait dans un petit village paisible entouré de forêts enchantées. Depuis toute petite, elle rêvait de devenir une grande sorcière et d'aider les habitants de son village avec ses pouvoirs magiques. Un jour, son plus grand rêve se réalisa lorsqu'elle fut acceptée à l'Académie des Sorcières. Elle quitta son village avec enthousiasme, les yeux remplis d'étoiles. Mais à peine arrivée, elle fut confrontée à un défi inattendu : un sortilège maléfique enveloppa son village natal, plongeant ses habitants dans le désespoir. Léa savait qu'elle devait revenir et sauver son village coûte que coûte.\n",
      "\n",
      "Chapitre 2: La quête de Léa\n",
      "\n",
      "Déterminée à sauver son village, Léa commença sa quête. Elle se rendit dans la bibliothèque de l'Académie où elle étudia les sorts et les enchantements pour contrer le sortilège maléfique. Elle découvrit qu'elle devait réunir sept ingrédients magiques dispersés dans le royaume enchanté, afin de créer un puissant contre-sort. Sans hésiter, Léa se mit en route, le cœur rempli d'espoir.\n",
      "\n",
      "Chapitre 3: Les rencontres magiques de Léa\n",
      "\n",
      "Léa parcourut le royaume enchanté, rencontrant des créatures magiques sur sa route. Elle fit la connaissance d'un dragon sage qui lui indiqua où trouver une potion rare dans la montagne des Neiges Éternelles. Elle rencontra également un lutin malicieux qui lui offrit une amulette enchantée pour se protéger des mauvais sorts. Avec l'aide de ses nouveaux amis, Léa avançait un peu plus chaque jour vers la réussite de sa quête.\n",
      "\n",
      "Chapitre 4: Le piège diabolique\n",
      "\n",
      "Alors que Léa était sur le point de trouver le dernier ingrédient magique, elle se retrouva coincée dans un piège diabolique tendu par le sorcier maléfique qui avait lancé le sortilège sur son village. Attachée et impuissante, elle se demandait comment elle pourrait s'en sortir. Soudain, un bruit étrange retentit dans les bois environnants, attirant l'attention du sorcier. Profitant de cette diversion, Léa fit jouer sa magie et se libéra rapidement.\n",
      "\n",
      "Chapitre 5: La victoire de Léa\n",
      "\n",
      "Libérée du piège, Léa récupéra le dernier ingrédient magique et retourna précipitamment vers son village. Elle utilisa tous les sorts appris à l'Académie pour lancer le puissant contre-sort sur le village assombri. Un vent de lumière balaya le sortilège maléfique, rendant la vie et la joie à tous les habitants. Les villageois applaudirent Léa, la remerciant d'avoir sauvé leur village. Avec fierté, Léa réalisa que son rêve de devenir une grande sorcière était désormais réalisé, et qu'elle était prête à affronter de nouveaux défis magiques pour aider ceux qui en avaient besoin.\n"
     ]
    }
   ],
   "source": [
    "story = generate_story(story_idea, hero_name, instructions)\n",
    "print(story)"
   ]
  },
  {
   "cell_type": "code",
   "execution_count": 33,
   "metadata": {},
   "outputs": [],
   "source": [
    "\n",
    "def format_raw_story(story):\n",
    "\n",
    "    # split story into chapters\n",
    "    pattern = r\"(Chapitre \\d+: [^\\n]+)\\n\\n(.*?)(?=\\n\\nChapitre|$)\"\n",
    "\n",
    "    # Find all matches\n",
    "    story_by_chapters = re.findall(pattern, story, re.DOTALL)\n",
    "\n",
    "    # Split the chapters into paragraphs of at least 100 characters\n",
    "    story_by_chapters_and_paragraphs = []\n",
    "    for chapter in story_by_chapters:\n",
    "        chapter_title = chapter[0]\n",
    "        chapter_content = chapter[1]\n",
    "        chapter_content_splited = []\n",
    "        for sentence in chapter_content.split(\".\"):\n",
    "            sentence = sentence.strip()\n",
    "            if sentence == \"\": continue\n",
    "            if len(chapter_content_splited) == 0:\n",
    "                chapter_content_splited.append(sentence)\n",
    "            elif len(chapter_content_splited[-1]) < 100:\n",
    "                chapter_content_splited[-1] += f\". {sentence}\"\n",
    "            else:\n",
    "                chapter_content_splited.append(sentence)\n",
    "        story_by_chapters_and_paragraphs.append((chapter_title, chapter_content_splited))\n",
    "    \n",
    "    return story_by_chapters_and_paragraphs"
   ]
  },
  {
   "cell_type": "code",
   "execution_count": 34,
   "metadata": {},
   "outputs": [],
   "source": [
    "formated_story = format_raw_story(story)"
   ]
  },
  {
   "cell_type": "code",
   "execution_count": 60,
   "metadata": {},
   "outputs": [
    {
     "data": {
      "text/plain": [
       "[('Chapitre 1: Les débuts de Léa',\n",
       "  ['Léa, une jeune sorcière en formation, vivait dans un petit village paisible entouré de forêts enchantées',\n",
       "   \"Depuis toute petite, elle rêvait de devenir une grande sorcière et d'aider les habitants de son village avec ses pouvoirs magiques\",\n",
       "   \"Un jour, son plus grand rêve se réalisa lorsqu'elle fut acceptée à l'Académie des Sorcières. Elle quitta son village avec enthousiasme, les yeux remplis d'étoiles\",\n",
       "   'Mais à peine arrivée, elle fut confrontée à un défi inattendu : un sortilège maléfique enveloppa son village natal, plongeant ses habitants dans le désespoir',\n",
       "   \"Léa savait qu'elle devait revenir et sauver son village coûte que coûte\"]),\n",
       " ('Chapitre 2: La quête de Léa',\n",
       "  [\"Déterminée à sauver son village, Léa commença sa quête. Elle se rendit dans la bibliothèque de l'Académie où elle étudia les sorts et les enchantements pour contrer le sortilège maléfique\",\n",
       "   \"Elle découvrit qu'elle devait réunir sept ingrédients magiques dispersés dans le royaume enchanté, afin de créer un puissant contre-sort\",\n",
       "   \"Sans hésiter, Léa se mit en route, le cœur rempli d'espoir\"]),\n",
       " ('Chapitre 3: Les rencontres magiques de Léa',\n",
       "  [\"Léa parcourut le royaume enchanté, rencontrant des créatures magiques sur sa route. Elle fit la connaissance d'un dragon sage qui lui indiqua où trouver une potion rare dans la montagne des Neiges Éternelles\",\n",
       "   'Elle rencontra également un lutin malicieux qui lui offrit une amulette enchantée pour se protéger des mauvais sorts',\n",
       "   \"Avec l'aide de ses nouveaux amis, Léa avançait un peu plus chaque jour vers la réussite de sa quête\"]),\n",
       " ('Chapitre 4: Le piège diabolique',\n",
       "  ['Alors que Léa était sur le point de trouver le dernier ingrédient magique, elle se retrouva coincée dans un piège diabolique tendu par le sorcier maléfique qui avait lancé le sortilège sur son village',\n",
       "   \"Attachée et impuissante, elle se demandait comment elle pourrait s'en sortir. Soudain, un bruit étrange retentit dans les bois environnants, attirant l'attention du sorcier\",\n",
       "   'Profitant de cette diversion, Léa fit jouer sa magie et se libéra rapidement']),\n",
       " ('Chapitre 5: La victoire de Léa',\n",
       "  ['Libérée du piège, Léa récupéra le dernier ingrédient magique et retourna précipitamment vers son village',\n",
       "   \"Elle utilisa tous les sorts appris à l'Académie pour lancer le puissant contre-sort sur le village assombri\",\n",
       "   \"Un vent de lumière balaya le sortilège maléfique, rendant la vie et la joie à tous les habitants. Les villageois applaudirent Léa, la remerciant d'avoir sauvé leur village\",\n",
       "   \"Avec fierté, Léa réalisa que son rêve de devenir une grande sorcière était désormais réalisé, et qu'elle était prête à affronter de nouveaux défis magiques pour aider ceux qui en avaient besoin\"])]"
      ]
     },
     "execution_count": 60,
     "metadata": {},
     "output_type": "execute_result"
    }
   ],
   "source": [
    "formated_story"
   ]
  },
  {
   "cell_type": "code",
   "execution_count": 61,
   "metadata": {},
   "outputs": [],
   "source": [
    "def text_to_images_desc(chapter_content):\n",
    "    response = openai.chat.completions.create(\n",
    "        model=\"gpt-3.5-turbo\",\n",
    "        messages=[{\"role\":\"user\", \"content\": f\"\"\"{chapter_content}\n",
    "{imagen_instructions}\"\"\"}\n",
    "                  ],\n",
    "        max_tokens=50\n",
    "    )\n",
    "    full_text = response.choices[0].message.content\n",
    "    return full_text\n",
    "\n",
    "                   \n",
    "    "
   ]
  },
  {
   "cell_type": "code",
   "execution_count": 62,
   "metadata": {},
   "outputs": [
    {
     "name": "stdout",
     "output_type": "stream",
     "text": [
      "Chapitre 1: Les débuts de Léa\n",
      "Chapitre 2: La quête de Léa\n",
      "Chapitre 3: Les rencontres magiques de Léa\n",
      "Chapitre 4: Le piège diabolique\n",
      "Chapitre 5: La victoire de Léa\n"
     ]
    },
    {
     "data": {
      "text/plain": [
       "{'chapter_0': {'title': 'Chapitre 1: Les débuts de Léa',\n",
       "  'paragraph_0': {'text': 'Léa, une jeune sorcière en formation, vivait dans un petit village paisible entouré de forêts enchantées',\n",
       "   'image_desc': 'Léa, a young witch-in-training, resided in a serene village nestled amidst enchanting forests.'},\n",
       "  'paragraph_1': {'text': \"Depuis toute petite, elle rêvait de devenir une grande sorcière et d'aider les habitants de son village avec ses pouvoirs magiques\",\n",
       "   'image_desc': 'A young girl, surrounded by a quaint village, dreams of becoming a powerful witch to help its inhabitants.'},\n",
       "  'paragraph_2': {'text': \"Un jour, son plus grand rêve se réalisa lorsqu'elle fut acceptée à l'Académie des Sorcières. Elle quitta son village avec enthousiasme, les yeux remplis d'étoiles\",\n",
       "   'image_desc': 'A young girl, with excitement shining in her eyes, joyfully leaves her village as she sets off to the Witch Academy.'},\n",
       "  'paragraph_3': {'text': 'Mais à peine arrivée, elle fut confrontée à un défi inattendu : un sortilège maléfique enveloppa son village natal, plongeant ses habitants dans le désespoir',\n",
       "   'image_desc': 'A young woman, just arrived, stands at the entrance of her hometown, devastated by a sinister spell, surrounded by desolate villagers.'},\n",
       "  'paragraph_4': {'text': \"Léa savait qu'elle devait revenir et sauver son village coûte que coûte\",\n",
       "   'image_desc': 'Léa, determined and heroic, returns to her village to save it from an imminent threat.'}},\n",
       " 'chapter_1': {'title': 'Chapitre 2: La quête de Léa',\n",
       "  'paragraph_0': {'text': \"Déterminée à sauver son village, Léa commença sa quête. Elle se rendit dans la bibliothèque de l'Académie où elle étudia les sorts et les enchantements pour contrer le sortilège maléfique\",\n",
       "   'image_desc': 'Léa, determined and clutching a magical book, stood in the dimly lit library of the Academy, surrounded by towering bookshelves filled with ancient tomes and flickering candlelight.'},\n",
       "  'paragraph_1': {'text': \"Elle découvrit qu'elle devait réunir sept ingrédients magiques dispersés dans le royaume enchanté, afin de créer un puissant contre-sort\",\n",
       "   'image_desc': 'A determined young woman explores the magical kingdom, searching for seven scattered magical ingredients to create a powerful counter-spell.'},\n",
       "  'paragraph_2': {'text': \"Sans hésiter, Léa se mit en route, le cœur rempli d'espoir\",\n",
       "   'image_desc': 'Lea, a determined young woman, sets off on her journey with a hopeful heart.'}},\n",
       " 'chapter_2': {'title': 'Chapitre 3: Les rencontres magiques de Léa',\n",
       "  'paragraph_0': {'text': \"Léa parcourut le royaume enchanté, rencontrant des créatures magiques sur sa route. Elle fit la connaissance d'un dragon sage qui lui indiqua où trouver une potion rare dans la montagne des Neiges Éternelles\",\n",
       "   'image_desc': 'Léa, a brave adventurer in a magical kingdom, stands before a wise dragon who points her towards the snow-covered peaks of the Eternal Snowy Mountain.'},\n",
       "  'paragraph_1': {'text': 'Elle rencontra également un lutin malicieux qui lui offrit une amulette enchantée pour se protéger des mauvais sorts',\n",
       "   'image_desc': 'In a mystical forest, a mischievous elf presents a enchanted amulet to a young girl.'},\n",
       "  'paragraph_2': {'text': \"Avec l'aide de ses nouveaux amis, Léa avançait un peu plus chaque jour vers la réussite de sa quête\",\n",
       "   'image_desc': 'Léa, surrounded by her new friends, stepped confidently towards her goal, each day inching closer to success.'}},\n",
       " 'chapter_3': {'title': 'Chapitre 4: Le piège diabolique',\n",
       "  'paragraph_0': {'text': 'Alors que Léa était sur le point de trouver le dernier ingrédient magique, elle se retrouva coincée dans un piège diabolique tendu par le sorcier maléfique qui avait lancé le sortilège sur son village',\n",
       "   'image_desc': 'Léa, a young girl with determination in her eyes, finds herself trapped in a sinister trap set by the evil sorcerer, surrounded by a mysterious and enchanting magical forest.'},\n",
       "  'paragraph_1': {'text': \"Attachée et impuissante, elle se demandait comment elle pourrait s'en sortir. Soudain, un bruit étrange retentit dans les bois environnants, attirant l'attention du sorcier\",\n",
       "   'image_desc': 'A bound and helpless woman, surrounded by woods, is captivated by a mysterious noise, drawing the attention of a sorcerer.'},\n",
       "  'paragraph_2': {'text': 'Profitant de cette diversion, Léa fit jouer sa magie et se libéra rapidement',\n",
       "   'image_desc': 'In a magical burst of energy, Lea effortlessly breaks free from her restraints in a room filled with mysterious objects.'}},\n",
       " 'chapter_4': {'title': 'Chapitre 5: La victoire de Léa',\n",
       "  'paragraph_0': {'text': 'Libérée du piège, Léa récupéra le dernier ingrédient magique et retourna précipitamment vers son village',\n",
       "   'image_desc': 'Léa, a determined young girl, carries the last magical ingredient as she rushes back to her village, escaping a dangerous trap.'},\n",
       "  'paragraph_1': {'text': \"Elle utilisa tous les sorts appris à l'Académie pour lancer le puissant contre-sort sur le village assombri\",\n",
       "   'image_desc': 'A determined young mage stood surrounded by the crumbling darkness, wielding her vast arcane knowledge to cast a powerful counterspell upon the shadowed village.'},\n",
       "  'paragraph_2': {'text': \"Un vent de lumière balaya le sortilège maléfique, rendant la vie et la joie à tous les habitants. Les villageois applaudirent Léa, la remerciant d'avoir sauvé leur village\",\n",
       "   'image_desc': 'In a vibrant village, amidst the jubilant villagers, Léa stands as a beacon of light, her presence restoring life and joy to the once cursed land.'},\n",
       "  'paragraph_3': {'text': \"Avec fierté, Léa réalisa que son rêve de devenir une grande sorcière était désormais réalisé, et qu'elle était prête à affronter de nouveaux défis magiques pour aider ceux qui en avaient besoin\",\n",
       "   'image_desc': 'Léa, a young witch, stood confidently in her enchanting forest, knowing she was ready to tackle new magical challenges and use her powers to help others.'}}}"
      ]
     },
     "execution_count": 62,
     "metadata": {},
     "output_type": "execute_result"
    }
   ],
   "source": [
    "story_with_images_desc = dict()\n",
    "for i, chapter in enumerate(formated_story):\n",
    "    chapter_title = chapter[0]\n",
    "    chapter_content = chapter[1]\n",
    "    story_with_images_desc[f'chapter_{i}'] = dict()\n",
    "    story_with_images_desc[f'chapter_{i}']['title'] = chapter_title\n",
    "    print(chapter_title)\n",
    "    for j, paragraph in enumerate(chapter_content):\n",
    "        paragraph_image_desc = text_to_images_desc(paragraph)\n",
    "        story_with_images_desc[f'chapter_{i}'][f'paragraph_{j}'] = dict()\n",
    "        story_with_images_desc[f'chapter_{i}'][f'paragraph_{j}']['text'] = paragraph\n",
    "        story_with_images_desc[f'chapter_{i}'][f'paragraph_{j}']['image_desc'] = paragraph_image_desc\n",
    "\n",
    "story_with_images_desc\n",
    "        \n",
    "        \n"
   ]
  },
  {
   "cell_type": "code",
   "execution_count": 43,
   "metadata": {},
   "outputs": [
    {
     "data": {
      "text/plain": [
       "'Léa, une jeune sorcière en formation, vivait dans un petit village paisible entouré de forêts enchantées'"
      ]
     },
     "execution_count": 43,
     "metadata": {},
     "output_type": "execute_result"
    }
   ],
   "source": [
    "formated_story[0][1][0]"
   ]
  },
  {
   "cell_type": "code",
   "execution_count": 59,
   "metadata": {},
   "outputs": [
    {
     "data": {
      "text/plain": [
       "'A young girl, surrounded by an enchanting forest, daydreams about becoming a powerful sorceress and using her magical abilities to assist her village.'"
      ]
     },
     "execution_count": 59,
     "metadata": {},
     "output_type": "execute_result"
    }
   ],
   "source": [
    "chapter_visual_descriptions = chapter_to_images_desc(formated_story[0][1][1])\n",
    "chapter_visual_descriptions"
   ]
  },
  {
   "cell_type": "code",
   "execution_count": 58,
   "metadata": {},
   "outputs": [
    {
     "data": {
      "text/plain": [
       "'Léa, a young witch-in-training, lived in a tranquil village surrounded by enchanting forests.'"
      ]
     },
     "execution_count": 58,
     "metadata": {},
     "output_type": "execute_result"
    }
   ],
   "source": []
  },
  {
   "cell_type": "code",
   "execution_count": null,
   "metadata": {},
   "outputs": [
    {
     "name": "stdout",
     "output_type": "stream",
     "text": [
      "Paragraph 1: Léa, a young witch-in-training, lived in a peaceful little village surrounded by enchanted forests.\n",
      "Description: Léa, a young girl with long, flowing hair and a pointed hat, stood in the center of a quaint village. Colorful flowers bloomed along the cobblestone paths, while tall, mystical trees loomed in the background, their branches swaying gently in the breeze.\n",
      "\n",
      "Paragraph 2: Since she was a little girl, she dreamed of becoming a great witch and helping the villagers with her magical powers.\n",
      "Description: Léa, now a teenager, sat on a hill overlooking the village, her eyes sparkling with determination. Her colorful robes billowed around her, and a glimmering wand was clasped tightly in her hand. In the distance, the village unfolded like a picturesque tapestry, displaying cozy cottages and smiling faces.\n",
      "\n",
      "Paragraph 3: One day, her greatest dream came true when she was accepted into the Witch Academy. She left her village with enthusiasm, her eyes filled with stars.\n",
      "Description: Léa stood in front of the grand entrance to the Witch Academy, a majestic stone structure with towering turrets and sparkling stained glass windows. Her heart raced with excitement as she gazed up at the intricate carvings and heard the echoes of laughter and magical spells from within.\n",
      "\n",
      "Paragraph 4: But as soon as she arrived, she was faced with an unexpected challenge: an evil spell engulfed her hometown, plunging its inhabitants into despair.\n",
      "Description: Léa's face turned pale as she stared at a crystal ball, revealing her village shrouded in a dark haze. The once vibrant homes and cheerful townspeople were now shadowed by sadness. The air felt heavy with gloom, and faint cries for help could be heard echoing through the halls of the academy.\n",
      "\n",
      "Paragraph 5: Léa knew she had to return and save her village at all costs.\n",
      "Description: Léa stood at the edge of a magical portal, her eyes filled with determination. The portal shimmered with an otherworldly light, revealing a familiar landscape of rolling hills and cozy cottages. She tightened her grip on her wand, ready to face whatever challenges awaited her, and stepped forward into the unknown.\n"
     ]
    }
   ],
   "source": [
    "print(chapter_visual_descriptions)"
   ]
  },
  {
   "cell_type": "code",
   "execution_count": 48,
   "metadata": {},
   "outputs": [],
   "source": [
    "def image_desc_to_dict(image_desc):\n",
    "    # regex split into list of dict {chunk: xx, description: xx}\n",
    "    liste = re.split(r\"chunk: (.*)\\nvisual description: (.*)\", image_desc)\n",
    "    # remove whitespace\n",
    "    liste = [x.strip() for x in liste if x.strip()]\n",
    "    for i in range(0, len(liste), 2):\n",
    "        liste[i] = {\"chunk\": liste[i], \"description\": liste[i+1]}\n",
    "    return liste"
   ]
  },
  {
   "cell_type": "code",
   "execution_count": 49,
   "metadata": {},
   "outputs": [
    {
     "data": {
      "text/plain": [
       "[{'chunk': 'Léa était une jeune sorcière en formation.',\n",
       "  'description': 'A young witch named Léa, with curly black hair and a pointed hat, was surrounded by magical books and potions in a cozy room filled with flickering candlelight.'},\n",
       " 'A young witch named Léa, with curly black hair and a pointed hat, was surrounded by magical books and potions in a cozy room filled with flickering candlelight.',\n",
       " {'chunk': 'Elle vivait dans un petit village entouré de montagnes enchantées.',\n",
       "  'description': 'The village, nestled at the base of towering enchanted mountains, was adorned with quaint cottages and colorful gardens, where fairies flitted about and unicorns grazed peacefully.'},\n",
       " 'The village, nestled at the base of towering enchanted mountains, was adorned with quaint cottages and colorful gardens, where fairies flitted about and unicorns grazed peacefully.',\n",
       " {'chunk': 'Mais un jour, un sortilège maléfique se répandit sur le village, transformant tous les habitants en statues de pierre.',\n",
       "  'description': 'The village was now shrouded in darkness, as a sinister curse engulfed it, turning the once vibrant townspeople into lifeless statues made of cold, grey stone.'},\n",
       " 'The village was now shrouded in darkness, as a sinister curse engulfed it, turning the once vibrant townspeople into lifeless statues made of cold, grey stone.',\n",
       " {'chunk': 'Léa fut la seule épargnée.',\n",
       "  'description': 'Amongst the frozen figures, Léa stood alone, her eyes filled with determination and a glimmer of hope, her soft voice echoing through the silent streets.'},\n",
       " 'Amongst the frozen figures, Léa stood alone, her eyes filled with determination and a glimmer of hope, her soft voice echoing through the silent streets.',\n",
       " {'chunk': \"En tant que sorcière en formation, elle savait qu'il lui fallait agir vite pour sauver son village bien-aimé.\",\n",
       "  'description': 'As a trainee witch, she knew time was of the essence to save her beloved village. With her hands trembling slightly, she clutched her wand tightly and began to devise a plan.'},\n",
       " 'As a trainee witch, she knew time was of the essence to save her beloved village. With her hands trembling slightly, she clutched her wand tightly and began to devise a plan.',\n",
       " {'chunk': 'Mais comment allait-elle prouver ses compétences et trouver un moyen de rompre ce sortilège maléfique ?',\n",
       "  'description': 'The question lingered in her mind as she paced back and forth, searching for answers amidst the musty tomes and ancient scrolls that lined the shelves of her makeshift study.'},\n",
       " 'The question lingered in her mind as she paced back and forth, searching for answers amidst the musty tomes and ancient scrolls that lined the shelves of her makeshift study.',\n",
       " {'chunk': 'Le temps pressait et Léa était bien déterminée à réussir.',\n",
       "  'description': 'The seconds ticked away, each one echoing louder in her ears. With a resolute look upon her face, Léa steeled herself for the daunting task ahead, her heart beating with unwavering determination.'},\n",
       " 'The seconds ticked away, each one echoing louder in her ears. With a resolute look upon her face, Léa steeled herself for the daunting task ahead, her heart beating with unwavering determination.']"
      ]
     },
     "execution_count": 49,
     "metadata": {},
     "output_type": "execute_result"
    }
   ],
   "source": [
    "image_desc_to_dict(chapter_visual_descriptions)"
   ]
  },
  {
   "cell_type": "code",
   "execution_count": 9,
   "metadata": {},
   "outputs": [
    {
     "data": {
      "text/plain": [
       "\"chunk: Léa était une jeune sorcière en devenir, toujours prête à relever de nouveaux défis.\\nvisual description: \\nSomeone, a young witch-to-be, with sparkling eyes and a mischievous smile, stood in front of a bubbling cauldron. Filled with determination, she eagerly prepared for every adventure that came her way.\\n\\nchunk: Un matin, elle reçut une missive mystérieuse lui demandant de se rendre au village voisin.\\nvisual description: \\nSomeone, with a curious expression on her face, was standing in her cluttered room. Sunlight peeked through the curtains as she held an old letter, its calligraphic letters whispering secrets that piqued her interest. \\n\\nchunk: Intriguée, Léa fit ses bagages et partit immédiatement.\\nvisual description: \\nSomeone, with a determined look in her eyes, swiftly packed her magical potions, spell books, and a few essential belongings. Her cloak billowed behind her as she stepped out of her cottage, ready to embark on a mysterious journey.\\n\\nchunk: Arrivée sur place, elle découvrit que le village était plongé dans un sommeil profond.\\nvisual description: \\nSomeone, with a mix of concern and curiosity, stood at the village entrance. The atmosphere was eerie, with a thick silence enveloping the sleeping houses, their windows dark and motionless. The village seemed frozen in time, trapped in a deep slumber.\\n\\nchunk: Les habitants étaient incapables de se réveiller.\\nvisual description: \\nSomeone moved cautiously, stepping over the immobile bodies strewn across the street. The villagers, their eyes closed, lay in a state of unmoving sleep. No sound, no signs of life, just an unsettling stillness that hung in the air.\\n\\nchunk: Intrépide, Léa savait qu'elle devait agir.\\nvisual description: \\nSomeone, feeling a surge of bravery in her heart, clenched her fists and gazed at the motionless villagers. The determination in her eyes was unwavering, as she knew deep down that she had a vital role to play in breaking the curse.\\n\\nchunk: Elle se dirigea vers la vieille tour au sommet de la colline, déterminée à découvrir la cause de ce maléfice.\\nvisual description: \\nSomeone confidently climbed the cobblestone path, her steps echoing through the stillness. At the top of the hill stood a majestic tower, its ancient stones covered in vines. Bathed in sunlight, it seemed to hold the key to unraveling the mystery behind the enchantment that had befallen the village.\""
      ]
     },
     "execution_count": 9,
     "metadata": {},
     "output_type": "execute_result"
    }
   ],
   "source": [
    "response = openai.chat.completions.create(\n",
    "    model=\"gpt-3.5-turbo\",\n",
    "    messages=[\n",
    "              {\"role\":\"user\", \"content\": f\"\"\"Léa était une jeune sorcière en devenir, toujours prête à relever de nouveaux défis. Un matin, elle reçut une missive mystérieuse lui demandant de se rendre au village voisin. Intriguée, Léa fit ses bagages et partit immédiatement. Arrivée sur place, elle découvrit que le village était plongé dans un sommeil profond. Les habitants étaient incapables de se réveiller. Intrépide, Léa savait qu'elle devait agir. Elle se dirigea vers la vieille tour au sommet de la colline, déterminée à découvrir la cause de ce maléfice.\n",
    "},\n",
    "              ]\n",
    ")\n",
    "response.choices[0].message.content"
   ]
  },
  {
   "cell_type": "code",
   "execution_count": 10,
   "metadata": {},
   "outputs": [
    {
     "name": "stdout",
     "output_type": "stream",
     "text": [
      "chunk: Léa était une jeune sorcière en devenir, toujours prête à relever de nouveaux défis.\n",
      "visual description: \n",
      "Someone, a young witch-to-be, with sparkling eyes and a mischievous smile, stood in front of a bubbling cauldron. Filled with determination, she eagerly prepared for every adventure that came her way.\n",
      "\n",
      "chunk: Un matin, elle reçut une missive mystérieuse lui demandant de se rendre au village voisin.\n",
      "visual description: \n",
      "Someone, with a curious expression on her face, was standing in her cluttered room. Sunlight peeked through the curtains as she held an old letter, its calligraphic letters whispering secrets that piqued her interest. \n",
      "\n",
      "chunk: Intriguée, Léa fit ses bagages et partit immédiatement.\n",
      "visual description: \n",
      "Someone, with a determined look in her eyes, swiftly packed her magical potions, spell books, and a few essential belongings. Her cloak billowed behind her as she stepped out of her cottage, ready to embark on a mysterious journey.\n",
      "\n",
      "chunk: Arrivée sur place, elle découvrit que le village était plongé dans un sommeil profond.\n",
      "visual description: \n",
      "Someone, with a mix of concern and curiosity, stood at the village entrance. The atmosphere was eerie, with a thick silence enveloping the sleeping houses, their windows dark and motionless. The village seemed frozen in time, trapped in a deep slumber.\n",
      "\n",
      "chunk: Les habitants étaient incapables de se réveiller.\n",
      "visual description: \n",
      "Someone moved cautiously, stepping over the immobile bodies strewn across the street. The villagers, their eyes closed, lay in a state of unmoving sleep. No sound, no signs of life, just an unsettling stillness that hung in the air.\n",
      "\n",
      "chunk: Intrépide, Léa savait qu'elle devait agir.\n",
      "visual description: \n",
      "Someone, feeling a surge of bravery in her heart, clenched her fists and gazed at the motionless villagers. The determination in her eyes was unwavering, as she knew deep down that she had a vital role to play in breaking the curse.\n",
      "\n",
      "chunk: Elle se dirigea vers la vieille tour au sommet de la colline, déterminée à découvrir la cause de ce maléfice.\n",
      "visual description: \n",
      "Someone confidently climbed the cobblestone path, her steps echoing through the stillness. At the top of the hill stood a majestic tower, its ancient stones covered in vines. Bathed in sunlight, it seemed to hold the key to unraveling the mystery behind the enchantment that had befallen the village.\n"
     ]
    }
   ],
   "source": [
    "print(response.choices[0].message.content)"
   ]
  },
  {
   "cell_type": "code",
   "execution_count": null,
   "metadata": {},
   "outputs": [],
   "source": [
    "# make a list of dict of chunks and descriptions\n"
   ]
  }
 ],
 "metadata": {
  "kernelspec": {
   "display_name": "Python 3",
   "language": "python",
   "name": "python3"
  },
  "language_info": {
   "codemirror_mode": {
    "name": "ipython",
    "version": 3
   },
   "file_extension": ".py",
   "mimetype": "text/x-python",
   "name": "python",
   "nbconvert_exporter": "python",
   "pygments_lexer": "ipython3",
   "version": "3.10.8"
  }
 },
 "nbformat": 4,
 "nbformat_minor": 2
}
