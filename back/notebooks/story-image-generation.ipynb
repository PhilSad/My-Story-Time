{
 "cells": [
  {
   "cell_type": "code",
   "execution_count": 1,
   "metadata": {},
   "outputs": [
    {
     "name": "stdout",
     "output_type": "stream",
     "text": [
      "Requirement already satisfied: openai in /usr/local/python/3.10.8/lib/python3.10/site-packages (1.2.4)\n",
      "Requirement already satisfied: python-dotenv in /usr/local/python/3.10.8/lib/python3.10/site-packages (1.0.0)\n",
      "Requirement already satisfied: anyio<4,>=3.5.0 in /usr/local/python/3.10.8/lib/python3.10/site-packages (from openai) (3.7.1)\n",
      "Requirement already satisfied: distro<2,>=1.7.0 in /usr/local/python/3.10.8/lib/python3.10/site-packages (from openai) (1.8.0)\n",
      "Requirement already satisfied: httpx<1,>=0.23.0 in /usr/local/python/3.10.8/lib/python3.10/site-packages (from openai) (0.25.1)\n",
      "Requirement already satisfied: pydantic<3,>=1.9.0 in /usr/local/python/3.10.8/lib/python3.10/site-packages (from openai) (2.5.1)\n",
      "Requirement already satisfied: tqdm>4 in /usr/local/python/3.10.8/lib/python3.10/site-packages (from openai) (4.66.1)\n",
      "Requirement already satisfied: typing-extensions<5,>=4.5 in /home/codespace/.local/lib/python3.10/site-packages (from openai) (4.8.0)\n",
      "Requirement already satisfied: idna>=2.8 in /home/codespace/.local/lib/python3.10/site-packages (from anyio<4,>=3.5.0->openai) (3.4)\n",
      "Requirement already satisfied: sniffio>=1.1 in /home/codespace/.local/lib/python3.10/site-packages (from anyio<4,>=3.5.0->openai) (1.3.0)\n",
      "Requirement already satisfied: exceptiongroup in /home/codespace/.local/lib/python3.10/site-packages (from anyio<4,>=3.5.0->openai) (1.1.3)\n",
      "Requirement already satisfied: certifi in /home/codespace/.local/lib/python3.10/site-packages (from httpx<1,>=0.23.0->openai) (2023.7.22)\n",
      "Requirement already satisfied: httpcore in /usr/local/python/3.10.8/lib/python3.10/site-packages (from httpx<1,>=0.23.0->openai) (1.0.2)\n",
      "Requirement already satisfied: annotated-types>=0.4.0 in /usr/local/python/3.10.8/lib/python3.10/site-packages (from pydantic<3,>=1.9.0->openai) (0.6.0)\n",
      "Requirement already satisfied: pydantic-core==2.14.3 in /usr/local/python/3.10.8/lib/python3.10/site-packages (from pydantic<3,>=1.9.0->openai) (2.14.3)\n",
      "Requirement already satisfied: h11<0.15,>=0.13 in /usr/local/python/3.10.8/lib/python3.10/site-packages (from httpcore->httpx<1,>=0.23.0->openai) (0.14.0)\n",
      "\n",
      "\u001b[1m[\u001b[0m\u001b[34;49mnotice\u001b[0m\u001b[1;39;49m]\u001b[0m\u001b[39;49m A new release of pip is available: \u001b[0m\u001b[31;49m23.3\u001b[0m\u001b[39;49m -> \u001b[0m\u001b[32;49m23.3.1\u001b[0m\n",
      "\u001b[1m[\u001b[0m\u001b[34;49mnotice\u001b[0m\u001b[1;39;49m]\u001b[0m\u001b[39;49m To update, run: \u001b[0m\u001b[32;49mpython -m pip install --upgrade pip\u001b[0m\n"
     ]
    }
   ],
   "source": [
    "!pip install openai python-dotenv"
   ]
  },
  {
   "cell_type": "code",
   "execution_count": 2,
   "metadata": {},
   "outputs": [
    {
     "data": {
      "text/plain": [
       "True"
      ]
     },
     "execution_count": 2,
     "metadata": {},
     "output_type": "execute_result"
    }
   ],
   "source": [
    "import dotenv\n",
    "import openai\n",
    "import re\n",
    "dotenv.load_dotenv('../.env')"
   ]
  },
  {
   "cell_type": "code",
   "execution_count": 3,
   "metadata": {},
   "outputs": [],
   "source": [
    "hero_name = \"Léa\"\n",
    "story_idea = \"une jeune sorcière en formation qui doit prouver ses compétences en sauvant son village d'un sortilège maléfique\"\n",
    "instructions = \"\"\"\n",
    "Consignes:\n",
    "Un chapitre doit être court et se terminer par un cliffhanger.\n",
    "Un Chapitre est divisé en plusieurs court paragraphes.\n",
    "Un paragraphes contient Deux phrases au maximum.\"\"\"\n",
    "imagen_instructions = \"\"\"-----\n",
    "Write a very short one sentence visual description of the scene. Include a very short description of the character and its environnement. Keep it short and simple.\"\"\""
   ]
  },
  {
   "cell_type": "code",
   "execution_count": 4,
   "metadata": {},
   "outputs": [],
   "source": [
    "def generate_prompt(story_idea, hero_name, instructions):\n",
    "    prompt = f\"\"\"Ecris une histoire pour enfant composée de 5 chapitres.\n",
    "{story_idea}\n",
    "Personnage principal: {hero_name}\n",
    "{instructions}\n",
    "\"\"\"\n",
    "    return prompt"
   ]
  },
  {
   "cell_type": "code",
   "execution_count": 5,
   "metadata": {},
   "outputs": [],
   "source": [
    "def generate_story(story_idea, hero_name, instructions):\n",
    "    prompt = generate_prompt(story_idea, hero_name, instructions)\n",
    "    response = openai.chat.completions.create(\n",
    "        model=\"gpt-3.5-turbo\",\n",
    "        messages=[{\"role\":\"user\", \"content\": prompt}]\n",
    "    )\n",
    "    full_text = response.choices[0].message.content\n",
    "    return full_text"
   ]
  },
  {
   "cell_type": "code",
   "execution_count": 6,
   "metadata": {},
   "outputs": [
    {
     "name": "stdout",
     "output_type": "stream",
     "text": [
      "Chapitre 1: La décision de Léa\n",
      "\n",
      "Léa, une jeune sorcière en formation, était assise tranquillement dans sa petite chambre remplie de livres de magie. La vie dans son village était paisible jusqu'à ce que les habitants soient frappés par un sortilège maléfique.\n",
      "Tous les jours, les villageois perdaient peu à peu leur énergie et leur joie de vivre. Ils n'avaient plus goût à rien, même les fleurs ne parvenaient plus à pousser. Le village était plongé dans une tristesse infinie.\n",
      "Un jour, Léa apprit que la seule façon de briser le sortilège était de trouver une plante très rare cachée au sommet de la montagne interdite. Elle devait alors prendre une décision : rester à l'abri de sa petite chambre, ou partir à l'aventure pour sauver son village.\n",
      "\n",
      "Chapitre 2: Le voyage périlleux de Léa\n",
      "\n",
      "Léa se leva courageusement de sa chaise, décidée à voler au secours de son village bien-aimé. Elle prit son balai magique et s'envola vers la montagne interdite.\n",
      "Les nuages autour d'elle devinrent de plus en plus sombres, tandis que des éclairs zébraient le ciel. La pluie commença à tomber intensément, rendant la visibilité presque impossible.\n",
      "Tout à coup, une tempête éclata et une violente rafale de vent faillit faire tomber Léa de son balai. Ses mains crispées autour du manche, elle avait l'impression de lutte contre les forces de la nature elles-mêmes.\n",
      "\n",
      "Chapitre 3: L'épreuve de la montagne\n",
      "\n",
      "Après avoir finalement réussi à traverser la tempête, Léa atterrit près de l'entrée de la montagne interdite. Elle savait que l'épreuve la plus difficile l'attendait à l'intérieur. La montagne était connue pour abriter toutes sortes de créatures étranges et dangereuses.\n",
      "Armée de courage, Léa s'avança lentement, essayant de ne pas faire trop de bruit. Soudain, elle entendit un grondement sourd. Un énorme dragon venait vers elle, crachant des flammes de ses narines.\n",
      "\n",
      "Chapitre 4: La rencontre inattendue\n",
      "\n",
      "Léa resta immobile, tenant fermement son balai. Elle se rappela alors des sorts de protection qu'elle avait appris au village. D'un geste rapide, elle lança un sortilège de glace sur le dragon, le figeant instantanément.\n",
      "Un soupir de soulagement s'échappa des lèvres de Léa. Mais juste au moment où elle pensait être en sécurité, une voix sinistre retentit derrière elle. Elle se retourna et aperçut une sorcière maléfique, le sourire aux lèvres.\n",
      "\n",
      "Chapitre 5: Le dénouement\n",
      "\n",
      "La sorcière maléfique ricana en voyant Léa figée sur place. Elle lança un sort qui envoya la jeune sorcière tourbillonner dans les airs. Léa essaya de se débattre, mais les forces magiques étaient trop puissantes.\n",
      "Alors que tout espoir semblait perdu, Léa se souvint de l'une des combinaisons de sorts qu'elle avait apprises en cours de magie. Elle lança alors un sortilège de protection qui créa un bouclier autour d'elle. La sorcière maléfique fut projetée en arrière.\n",
      "Léa utilisa alors ses pouvoirs pour lier la sorcière maléfique et l'empêcher de nuire davantage. Elle cria alors : \"Le sortilège est rompu ! Mon village sera sauvé !\"\n",
      "Enfin, Léa se dirigea vers le sommet de la montagne interdite, où elle trouva la plante rare. Elle retourna fièrement dans son village et utilisa la plante pour briser le sortilège maléfique.\n",
      "Le village retrouva sa joie de vivre, et Léa fut acclamée comme une héroïne. Elle savait maintenant qu'elle était une véritable sorcière, prête à affronter n'importe quel défi avec courage et détermination.\n"
     ]
    }
   ],
   "source": [
    "story = generate_story(story_idea, hero_name, instructions)\n",
    "print(story)"
   ]
  },
  {
   "cell_type": "code",
   "execution_count": 7,
   "metadata": {},
   "outputs": [],
   "source": [
    "\n",
    "def format_raw_story(story):\n",
    "\n",
    "    # split story into chapters\n",
    "    pattern = r\"(Chapitre \\d+: [^\\n]+)\\n\\n(.*?)(?=\\n\\nChapitre|$)\"\n",
    "\n",
    "    # Find all matches\n",
    "    story_by_chapters = re.findall(pattern, story, re.DOTALL)\n",
    "\n",
    "    # Split the chapters into paragraphs of at least 100 characters\n",
    "    story_by_chapters_and_paragraphs = []\n",
    "    for chapter in story_by_chapters:\n",
    "        chapter_title = chapter[0]\n",
    "        chapter_content = chapter[1]\n",
    "        chapter_content_splited = []\n",
    "        for sentence in chapter_content.split(\".\"):\n",
    "            sentence = sentence.strip()\n",
    "            if sentence == \"\": continue\n",
    "            if len(chapter_content_splited) == 0:\n",
    "                chapter_content_splited.append(sentence)\n",
    "            elif len(chapter_content_splited[-1]) < 100:\n",
    "                chapter_content_splited[-1] += f\". {sentence}\"\n",
    "            else:\n",
    "                chapter_content_splited.append(sentence)\n",
    "        story_by_chapters_and_paragraphs.append((chapter_title, chapter_content_splited))\n",
    "    \n",
    "    return story_by_chapters_and_paragraphs"
   ]
  },
  {
   "cell_type": "code",
   "execution_count": 8,
   "metadata": {},
   "outputs": [],
   "source": [
    "formated_story = format_raw_story(story)"
   ]
  },
  {
   "cell_type": "code",
   "execution_count": 9,
   "metadata": {},
   "outputs": [
    {
     "data": {
      "text/plain": [
       "[('Chapitre 1: La décision de Léa',\n",
       "  ['Léa, une jeune sorcière en formation, était assise tranquillement dans sa petite chambre remplie de livres de magie',\n",
       "   \"La vie dans son village était paisible jusqu'à ce que les habitants soient frappés par un sortilège maléfique\",\n",
       "   \"Tous les jours, les villageois perdaient peu à peu leur énergie et leur joie de vivre. Ils n'avaient plus goût à rien, même les fleurs ne parvenaient plus à pousser\",\n",
       "   'Le village était plongé dans une tristesse infinie. Un jour, Léa apprit que la seule façon de briser le sortilège était de trouver une plante très rare cachée au sommet de la montagne interdite',\n",
       "   \"Elle devait alors prendre une décision : rester à l'abri de sa petite chambre, ou partir à l'aventure pour sauver son village\"]),\n",
       " ('Chapitre 2: Le voyage périlleux de Léa',\n",
       "  [\"Léa se leva courageusement de sa chaise, décidée à voler au secours de son village bien-aimé. Elle prit son balai magique et s'envola vers la montagne interdite\",\n",
       "   \"Les nuages autour d'elle devinrent de plus en plus sombres, tandis que des éclairs zébraient le ciel\",\n",
       "   'La pluie commença à tomber intensément, rendant la visibilité presque impossible. Tout à coup, une tempête éclata et une violente rafale de vent faillit faire tomber Léa de son balai',\n",
       "   \"Ses mains crispées autour du manche, elle avait l'impression de lutte contre les forces de la nature elles-mêmes\"]),\n",
       " (\"Chapitre 3: L'épreuve de la montagne\",\n",
       "  [\"Après avoir finalement réussi à traverser la tempête, Léa atterrit près de l'entrée de la montagne interdite\",\n",
       "   \"Elle savait que l'épreuve la plus difficile l'attendait à l'intérieur. La montagne était connue pour abriter toutes sortes de créatures étranges et dangereuses\",\n",
       "   \"Armée de courage, Léa s'avança lentement, essayant de ne pas faire trop de bruit. Soudain, elle entendit un grondement sourd\",\n",
       "   'Un énorme dragon venait vers elle, crachant des flammes de ses narines']),\n",
       " ('Chapitre 4: La rencontre inattendue',\n",
       "  [\"Léa resta immobile, tenant fermement son balai. Elle se rappela alors des sorts de protection qu'elle avait appris au village\",\n",
       "   \"D'un geste rapide, elle lança un sortilège de glace sur le dragon, le figeant instantanément. Un soupir de soulagement s'échappa des lèvres de Léa\",\n",
       "   'Mais juste au moment où elle pensait être en sécurité, une voix sinistre retentit derrière elle. Elle se retourna et aperçut une sorcière maléfique, le sourire aux lèvres']),\n",
       " ('Chapitre 5: Le dénouement',\n",
       "  ['La sorcière maléfique ricana en voyant Léa figée sur place. Elle lança un sort qui envoya la jeune sorcière tourbillonner dans les airs',\n",
       "   \"Léa essaya de se débattre, mais les forces magiques étaient trop puissantes. Alors que tout espoir semblait perdu, Léa se souvint de l'une des combinaisons de sorts qu'elle avait apprises en cours de magie\",\n",
       "   \"Elle lança alors un sortilège de protection qui créa un bouclier autour d'elle. La sorcière maléfique fut projetée en arrière\",\n",
       "   'Léa utilisa alors ses pouvoirs pour lier la sorcière maléfique et l\\'empêcher de nuire davantage. Elle cria alors : \"Le sortilège est rompu ! Mon village sera sauvé !\"\\nEnfin, Léa se dirigea vers le sommet de la montagne interdite, où elle trouva la plante rare',\n",
       "   'Elle retourna fièrement dans son village et utilisa la plante pour briser le sortilège maléfique. Le village retrouva sa joie de vivre, et Léa fut acclamée comme une héroïne',\n",
       "   \"Elle savait maintenant qu'elle était une véritable sorcière, prête à affronter n'importe quel défi avec courage et détermination\"])]"
      ]
     },
     "execution_count": 9,
     "metadata": {},
     "output_type": "execute_result"
    }
   ],
   "source": [
    "formated_story"
   ]
  },
  {
   "cell_type": "code",
   "execution_count": 10,
   "metadata": {},
   "outputs": [],
   "source": [
    "def text_to_images_desc(chapter_content):\n",
    "    response = openai.chat.completions.create(\n",
    "        model=\"gpt-3.5-turbo\",\n",
    "        messages=[{\"role\":\"user\", \"content\": f\"\"\"{chapter_content}\n",
    "{imagen_instructions}\"\"\"}\n",
    "                  ],\n",
    "        max_tokens=50\n",
    "    )\n",
    "    full_text = response.choices[0].message.content\n",
    "    return full_text\n",
    "\n",
    "                   \n",
    "    "
   ]
  },
  {
   "cell_type": "code",
   "execution_count": 12,
   "metadata": {},
   "outputs": [
    {
     "name": "stdout",
     "output_type": "stream",
     "text": [
      "Chapitre 1: La décision de Léa\n",
      "Chapitre 2: Le voyage périlleux de Léa\n",
      "Chapitre 3: L'épreuve de la montagne\n",
      "Chapitre 4: La rencontre inattendue\n",
      "Chapitre 5: Le dénouement\n"
     ]
    },
    {
     "data": {
      "text/plain": [
       "[{'chapter_title': 'Chapitre 1: La décision de Léa',\n",
       "  'paragraphs': [{'text': 'Léa, une jeune sorcière en formation, était assise tranquillement dans sa petite chambre remplie de livres de magie',\n",
       "    'image_desc': 'Léa, a young witch-in-training, sat peacefully in her cozy room surrounded by a collection of magical books.'},\n",
       "   {'text': \"La vie dans son village était paisible jusqu'à ce que les habitants soient frappés par un sortilège maléfique\",\n",
       "    'image_desc': 'In a peaceful village, inhabitants are struck by a malevolent curse.'},\n",
       "   {'text': \"Tous les jours, les villageois perdaient peu à peu leur énergie et leur joie de vivre. Ils n'avaient plus goût à rien, même les fleurs ne parvenaient plus à pousser\",\n",
       "    'image_desc': 'A dreary village with wilted flowers and downtrodden villagers.'},\n",
       "   {'text': 'Le village était plongé dans une tristesse infinie. Un jour, Léa apprit que la seule façon de briser le sortilège était de trouver une plante très rare cachée au sommet de la montagne interdite',\n",
       "    'image_desc': 'Léa, surrounded by the sorrowful village, discovers that she must venture to the forbidden mountain to find a rare plant and break the enchantment.'},\n",
       "   {'text': \"Elle devait alors prendre une décision : rester à l'abri de sa petite chambre, ou partir à l'aventure pour sauver son village\",\n",
       "    'image_desc': 'A young girl stands at the crossroads between her cozy room and the unknown, contemplating the choice that will determine the fate of her village.'}]},\n",
       " {'chapter_title': 'Chapitre 2: Le voyage périlleux de Léa',\n",
       "  'paragraphs': [{'text': \"Léa se leva courageusement de sa chaise, décidée à voler au secours de son village bien-aimé. Elle prit son balai magique et s'envola vers la montagne interdite\",\n",
       "    'image_desc': 'Léa, a determined young woman, rises courageously from her chair and takes her magic broom to fly towards the forbidden mountain, ready to save her beloved village.'},\n",
       "   {'text': \"Les nuages autour d'elle devinrent de plus en plus sombres, tandis que des éclairs zébraient le ciel\",\n",
       "    'image_desc': 'A dark-haired woman stood amidst darkening clouds as lightning streaked across the sky.'},\n",
       "   {'text': 'La pluie commença à tomber intensément, rendant la visibilité presque impossible. Tout à coup, une tempête éclata et une violente rafale de vent faillit faire tomber Léa de son balai',\n",
       "    'image_desc': 'Léa, on her broom, struggles to maintain balance as a violent storm unleashes heavy rain and powerful winds.'},\n",
       "   {'text': \"Ses mains crispées autour du manche, elle avait l'impression de lutte contre les forces de la nature elles-mêmes\",\n",
       "    'image_desc': 'A determined woman tightly grasping the handle, battling against the powerful forces of nature surrounding her.'}]},\n",
       " {'chapter_title': \"Chapitre 3: L'épreuve de la montagne\",\n",
       "  'paragraphs': [{'text': \"Après avoir finalement réussi à traverser la tempête, Léa atterrit près de l'entrée de la montagne interdite\",\n",
       "    'image_desc': 'Léa, drenched from the storm, lands near the entrance of the forbidden mountain.'},\n",
       "   {'text': \"Elle savait que l'épreuve la plus difficile l'attendait à l'intérieur. La montagne était connue pour abriter toutes sortes de créatures étranges et dangereuses\",\n",
       "    'image_desc': 'A determined woman stood at the foot of a treacherous mountain, bracing herself for the unknown perils that awaited her.'},\n",
       "   {'text': \"Armée de courage, Léa s'avança lentement, essayant de ne pas faire trop de bruit. Soudain, elle entendit un grondement sourd\",\n",
       "    'image_desc': 'In a tense moment, brave Léa cautiously moves forward, trying to be silent, as she hears a low growl.'},\n",
       "   {'text': 'Un énorme dragon venait vers elle, crachant des flammes de ses narines',\n",
       "    'image_desc': 'A woman stood in fear as a colossal dragon breathed out fiery tendrils.'}]},\n",
       " {'chapter_title': 'Chapitre 4: La rencontre inattendue',\n",
       "  'paragraphs': [{'text': \"Léa resta immobile, tenant fermement son balai. Elle se rappela alors des sorts de protection qu'elle avait appris au village\",\n",
       "    'image_desc': 'Léa, frozen in place, clutching her broom, reminisced about the protective spells she had learned in the village.'},\n",
       "   {'text': \"D'un geste rapide, elle lança un sortilège de glace sur le dragon, le figeant instantanément. Un soupir de soulagement s'échappa des lèvres de Léa\",\n",
       "    'image_desc': 'Léa swiftly casts an ice spell on the dragon, freezing it instantly, prompting a sigh of relief.'},\n",
       "   {'text': 'Mais juste au moment où elle pensait être en sécurité, une voix sinistre retentit derrière elle. Elle se retourna et aperçut une sorcière maléfique, le sourire aux lèvres',\n",
       "    'image_desc': \"In a moment of perceived safety, a witch appeared with an evil smile, shattering the protagonist's sense of security.\"}]},\n",
       " {'chapter_title': 'Chapitre 5: Le dénouement',\n",
       "  'paragraphs': [{'text': 'La sorcière maléfique ricana en voyant Léa figée sur place. Elle lança un sort qui envoya la jeune sorcière tourbillonner dans les airs',\n",
       "    'image_desc': 'A malevolent witch cackles at a frozen Léa, casting a spell that sends the young witch spiraling through the air.'},\n",
       "   {'text': \"Léa essaya de se débattre, mais les forces magiques étaient trop puissantes. Alors que tout espoir semblait perdu, Léa se souvint de l'une des combinaisons de sorts qu'elle avait apprises en cours de magie\",\n",
       "    'image_desc': 'Léa, trapped in a magical force, desperately recalls a spell she learned in a magic class.'},\n",
       "   {'text': \"Elle lança alors un sortilège de protection qui créa un bouclier autour d'elle. La sorcière maléfique fut projetée en arrière\",\n",
       "    'image_desc': 'In a magical environment, a witch casts a protective spell, forming a shield around her that repels an evil sorceress.'},\n",
       "   {'text': 'Léa utilisa alors ses pouvoirs pour lier la sorcière maléfique et l\\'empêcher de nuire davantage. Elle cria alors : \"Le sortilège est rompu ! Mon village sera sauvé !\"\\nEnfin, Léa se dirigea vers le sommet de la montagne interdite, où elle trouva la plante rare',\n",
       "    'image_desc': 'Léa, a powerful sorceress, uses her magical powers to defeat the evil witch and save her village, before setting off to find a rare plant on the forbidden mountain.'},\n",
       "   {'text': 'Elle retourna fièrement dans son village et utilisa la plante pour briser le sortilège maléfique. Le village retrouva sa joie de vivre, et Léa fut acclamée comme une héroïne',\n",
       "    'image_desc': 'Lea, with a triumphant smile, holds a vibrant plant in her hand as the once gloomy village springs back to life, its people cheering her as a hero.'},\n",
       "   {'text': \"Elle savait maintenant qu'elle était une véritable sorcière, prête à affronter n'importe quel défi avec courage et détermination\",\n",
       "    'image_desc': 'A confident witch standing in a mystical forest, ready to face any challenge.'}]}]"
      ]
     },
     "execution_count": 12,
     "metadata": {},
     "output_type": "execute_result"
    }
   ],
   "source": [
    "story_with_images_desc = list()\n",
    "for i, chapter in enumerate(formated_story):\n",
    "    chapter_title = chapter[0]\n",
    "    chapter_content = chapter[1]\n",
    "    chapter_item = dict()\n",
    "    chapter_item['chapter_title'] = chapter_title\n",
    "    chapter_item['paragraphs'] = list()\n",
    "    print(chapter_title)\n",
    "    for j, paragraph_text in enumerate(chapter_content):\n",
    "        paragraph_item = dict()\n",
    "        paragraph_item['text'] = paragraph_text\n",
    "        paragraph_item['image_desc'] = text_to_images_desc(paragraph_text)\n",
    "        chapter_item['paragraphs'].append(paragraph_item)\n",
    "    story_with_images_desc.append(chapter_item)\n",
    "story_with_images_desc\n",
    "        \n",
    "        \n"
   ]
  },
  {
   "cell_type": "markdown",
   "metadata": {},
   "source": [
    "# Gen images"
   ]
  },
  {
   "cell_type": "markdown",
   "metadata": {},
   "source": [
    "# dl models"
   ]
  },
  {
   "cell_type": "code",
   "execution_count": 2,
   "metadata": {},
   "outputs": [
    {
     "name": "stdout",
     "output_type": "stream",
     "text": [
      "--2023-11-17 15:30:37--  https://huggingface.co/h94/IP-Adapter/resolve/main/sdxl_models/ip-adapter-plus-face_sdxl_vit-h.bin\n",
      "Resolving huggingface.co (huggingface.co)... 18.155.129.4, 18.155.129.31, 18.155.129.60, ...\n",
      "Connecting to huggingface.co (huggingface.co)|18.155.129.4|:443... connected.\n",
      "HTTP request sent, awaiting response... 302 Found\n",
      "Location: https://cdn-lfs.huggingface.co/repos/6f/e5/6fe5d8840a1ab462e1b9f52fbeabac6bb30febaf56fb5a439f08cca6d1cf4372/50e886d82940b3c5873d80c2b06d8a4b0d0fccec70bc44fd53f16ac3cfd7fc36?response-content-disposition=attachment%3B+filename*%3DUTF-8%27%27ip-adapter-plus-face_sdxl_vit-h.bin%3B+filename%3D%22ip-adapter-plus-face_sdxl_vit-h.bin%22%3B&response-content-type=application%2Foctet-stream&Expires=1700494237&Policy=eyJTdGF0ZW1lbnQiOlt7IkNvbmRpdGlvbiI6eyJEYXRlTGVzc1RoYW4iOnsiQVdTOkVwb2NoVGltZSI6MTcwMDQ5NDIzN319LCJSZXNvdXJjZSI6Imh0dHBzOi8vY2RuLWxmcy5odWdnaW5nZmFjZS5jby9yZXBvcy82Zi9lNS82ZmU1ZDg4NDBhMWFiNDYyZTFiOWY1MmZiZWFiYWM2YmIzMGZlYmFmNTZmYjVhNDM5ZjA4Y2NhNmQxY2Y0MzcyLzUwZTg4NmQ4Mjk0MGIzYzU4NzNkODBjMmIwNmQ4YTRiMGQwZmNjZWM3MGJjNDRmZDUzZjE2YWMzY2ZkN2ZjMzY%7EcmVzcG9uc2UtY29udGVudC1kaXNwb3NpdGlvbj0qJnJlc3BvbnNlLWNvbnRlbnQtdHlwZT0qIn1dfQ__&Signature=D3qxj4pc4BXH3ny23pzztly5aOaeP23VCjYFMvh5gmQ5jDBDiRmA1GpJH0gmD2fK4sMz2uNzl2-XqFT2ZJftG6bqRRdBPTbfgfS5aAtNex3jnWa6QiwDyvDDK159UBBF%7En4vAEW0TMnw85Pns8U3cmi6Q-L4wLi6pVkIYmAH3XJC191ue1G31irWIeNzVuoHNUmVKYSfxmCoTnI1cV9S14PpTX1RiP9ZKOIxlPdL9Uh-rFimPR4cZmpyXdCLzNhUfL6CjW1XseMcxJNrgEphU9bbIhtd5F0-MfxgdtI36Q50BllO11sLuB5nM0L4Zik6b2%7E6tRNWA90cyWdEwxrLoQ__&Key-Pair-Id=KVTP0A1DKRTAX [following]\n",
      "--2023-11-17 15:30:37--  https://cdn-lfs.huggingface.co/repos/6f/e5/6fe5d8840a1ab462e1b9f52fbeabac6bb30febaf56fb5a439f08cca6d1cf4372/50e886d82940b3c5873d80c2b06d8a4b0d0fccec70bc44fd53f16ac3cfd7fc36?response-content-disposition=attachment%3B+filename*%3DUTF-8%27%27ip-adapter-plus-face_sdxl_vit-h.bin%3B+filename%3D%22ip-adapter-plus-face_sdxl_vit-h.bin%22%3B&response-content-type=application%2Foctet-stream&Expires=1700494237&Policy=eyJTdGF0ZW1lbnQiOlt7IkNvbmRpdGlvbiI6eyJEYXRlTGVzc1RoYW4iOnsiQVdTOkVwb2NoVGltZSI6MTcwMDQ5NDIzN319LCJSZXNvdXJjZSI6Imh0dHBzOi8vY2RuLWxmcy5odWdnaW5nZmFjZS5jby9yZXBvcy82Zi9lNS82ZmU1ZDg4NDBhMWFiNDYyZTFiOWY1MmZiZWFiYWM2YmIzMGZlYmFmNTZmYjVhNDM5ZjA4Y2NhNmQxY2Y0MzcyLzUwZTg4NmQ4Mjk0MGIzYzU4NzNkODBjMmIwNmQ4YTRiMGQwZmNjZWM3MGJjNDRmZDUzZjE2YWMzY2ZkN2ZjMzY%7EcmVzcG9uc2UtY29udGVudC1kaXNwb3NpdGlvbj0qJnJlc3BvbnNlLWNvbnRlbnQtdHlwZT0qIn1dfQ__&Signature=D3qxj4pc4BXH3ny23pzztly5aOaeP23VCjYFMvh5gmQ5jDBDiRmA1GpJH0gmD2fK4sMz2uNzl2-XqFT2ZJftG6bqRRdBPTbfgfS5aAtNex3jnWa6QiwDyvDDK159UBBF%7En4vAEW0TMnw85Pns8U3cmi6Q-L4wLi6pVkIYmAH3XJC191ue1G31irWIeNzVuoHNUmVKYSfxmCoTnI1cV9S14PpTX1RiP9ZKOIxlPdL9Uh-rFimPR4cZmpyXdCLzNhUfL6CjW1XseMcxJNrgEphU9bbIhtd5F0-MfxgdtI36Q50BllO11sLuB5nM0L4Zik6b2%7E6tRNWA90cyWdEwxrLoQ__&Key-Pair-Id=KVTP0A1DKRTAX\n",
      "Resolving cdn-lfs.huggingface.co (cdn-lfs.huggingface.co)... 52.222.149.60, 52.222.149.85, 52.222.149.65, ...\n",
      "Connecting to cdn-lfs.huggingface.co (cdn-lfs.huggingface.co)|52.222.149.60|:443... connected.\n",
      "HTTP request sent, awaiting response... 200 OK\n",
      "Length: 1013454761 (967M) [application/octet-stream]\n",
      "Saving to: ‘models/ip-adapter-plus-face_sdxl_vit-h.bin’\n",
      "\n",
      "ip-adapter-plus-fac 100%[===================>] 966.50M   108MB/s    in 8.9s    \n",
      "\n",
      "2023-11-17 15:30:47 (108 MB/s) - ‘models/ip-adapter-plus-face_sdxl_vit-h.bin’ saved [1013454761/1013454761]\n",
      "\n",
      "--2023-11-17 15:30:48--  https://huggingface.co/h94/IP-Adapter/resolve/main/models/image_encoder/pytorch_model.bin\n",
      "Resolving huggingface.co (huggingface.co)... 18.155.129.129, 18.155.129.60, 18.155.129.31, ...\n",
      "Connecting to huggingface.co (huggingface.co)|18.155.129.129|:443... connected.\n",
      "HTTP request sent, awaiting response... 302 Found\n",
      "Location: https://cdn-lfs.huggingface.co/repos/6f/e5/6fe5d8840a1ab462e1b9f52fbeabac6bb30febaf56fb5a439f08cca6d1cf4372/3d3ec1e66737f77a4f3bc2df3c52eacefc69ce7825e2784183b1d4e9877d9193?response-content-disposition=attachment%3B+filename*%3DUTF-8%27%27pytorch_model.bin%3B+filename%3D%22pytorch_model.bin%22%3B&response-content-type=application%2Foctet-stream&Expires=1700494248&Policy=eyJTdGF0ZW1lbnQiOlt7IkNvbmRpdGlvbiI6eyJEYXRlTGVzc1RoYW4iOnsiQVdTOkVwb2NoVGltZSI6MTcwMDQ5NDI0OH19LCJSZXNvdXJjZSI6Imh0dHBzOi8vY2RuLWxmcy5odWdnaW5nZmFjZS5jby9yZXBvcy82Zi9lNS82ZmU1ZDg4NDBhMWFiNDYyZTFiOWY1MmZiZWFiYWM2YmIzMGZlYmFmNTZmYjVhNDM5ZjA4Y2NhNmQxY2Y0MzcyLzNkM2VjMWU2NjczN2Y3N2E0ZjNiYzJkZjNjNTJlYWNlZmM2OWNlNzgyNWUyNzg0MTgzYjFkNGU5ODc3ZDkxOTM%7EcmVzcG9uc2UtY29udGVudC1kaXNwb3NpdGlvbj0qJnJlc3BvbnNlLWNvbnRlbnQtdHlwZT0qIn1dfQ__&Signature=HtfHvmua-1tapxebTAA6QiWUJPB0KfZFJ3epqIvWh5Cl3tr6H5cUJVcQNTW5WbNmmi9ds%7E%7EFJoW43C13tUsRO14hx%7ET5%7EhZTo7MiqehtmxlTuh3zjcX1%7E%7E9wDNiBlyIA1ida6nuZQf59hqxbEAn6-iUJ-XDnLV86HRpL6iFyZadw%7E7Pl2QhExCDr7JW8BwZh2tL3cjF%7EPYZfzHAFmWnPES7UNwdLy%7EfsZi2VchB8p7LzMYexI-Kj8%7EDtAxO8Ck-dU8YvcnZchiHTIeWpE%7E8YuRY%7ExGRZ0Bwvk9XspeeVC6%7EUCzFNKbsOXyiMTmJB6fx86Pv7Dlxt30Rqi-wVAeCAWg__&Key-Pair-Id=KVTP0A1DKRTAX [following]\n",
      "--2023-11-17 15:30:48--  https://cdn-lfs.huggingface.co/repos/6f/e5/6fe5d8840a1ab462e1b9f52fbeabac6bb30febaf56fb5a439f08cca6d1cf4372/3d3ec1e66737f77a4f3bc2df3c52eacefc69ce7825e2784183b1d4e9877d9193?response-content-disposition=attachment%3B+filename*%3DUTF-8%27%27pytorch_model.bin%3B+filename%3D%22pytorch_model.bin%22%3B&response-content-type=application%2Foctet-stream&Expires=1700494248&Policy=eyJTdGF0ZW1lbnQiOlt7IkNvbmRpdGlvbiI6eyJEYXRlTGVzc1RoYW4iOnsiQVdTOkVwb2NoVGltZSI6MTcwMDQ5NDI0OH19LCJSZXNvdXJjZSI6Imh0dHBzOi8vY2RuLWxmcy5odWdnaW5nZmFjZS5jby9yZXBvcy82Zi9lNS82ZmU1ZDg4NDBhMWFiNDYyZTFiOWY1MmZiZWFiYWM2YmIzMGZlYmFmNTZmYjVhNDM5ZjA4Y2NhNmQxY2Y0MzcyLzNkM2VjMWU2NjczN2Y3N2E0ZjNiYzJkZjNjNTJlYWNlZmM2OWNlNzgyNWUyNzg0MTgzYjFkNGU5ODc3ZDkxOTM%7EcmVzcG9uc2UtY29udGVudC1kaXNwb3NpdGlvbj0qJnJlc3BvbnNlLWNvbnRlbnQtdHlwZT0qIn1dfQ__&Signature=HtfHvmua-1tapxebTAA6QiWUJPB0KfZFJ3epqIvWh5Cl3tr6H5cUJVcQNTW5WbNmmi9ds%7E%7EFJoW43C13tUsRO14hx%7ET5%7EhZTo7MiqehtmxlTuh3zjcX1%7E%7E9wDNiBlyIA1ida6nuZQf59hqxbEAn6-iUJ-XDnLV86HRpL6iFyZadw%7E7Pl2QhExCDr7JW8BwZh2tL3cjF%7EPYZfzHAFmWnPES7UNwdLy%7EfsZi2VchB8p7LzMYexI-Kj8%7EDtAxO8Ck-dU8YvcnZchiHTIeWpE%7E8YuRY%7ExGRZ0Bwvk9XspeeVC6%7EUCzFNKbsOXyiMTmJB6fx86Pv7Dlxt30Rqi-wVAeCAWg__&Key-Pair-Id=KVTP0A1DKRTAX\n",
      "Resolving cdn-lfs.huggingface.co (cdn-lfs.huggingface.co)... 52.222.149.85, 52.222.149.60, 52.222.149.65, ...\n",
      "Connecting to cdn-lfs.huggingface.co (cdn-lfs.huggingface.co)|52.222.149.85|:443... connected.\n",
      "HTTP request sent, awaiting response... 200 OK\n",
      "Length: 2528481905 (2.4G) [application/octet-stream]\n",
      "Saving to: ‘models/image_encoder/pytorch_model.bin’\n",
      "\n",
      "models/image_encode 100%[===================>]   2.35G   108MB/s    in 23s     \n",
      "\n",
      "2023-11-17 15:31:11 (107 MB/s) - ‘models/image_encoder/pytorch_model.bin’ saved [2528481905/2528481905]\n",
      "\n",
      "--2023-11-17 15:31:12--  https://huggingface.co/h94/IP-Adapter/resolve/main/models/image_encoder/config.json\n",
      "Resolving huggingface.co (huggingface.co)... 18.155.129.4, 18.155.129.31, 18.155.129.60, ...\n",
      "Connecting to huggingface.co (huggingface.co)|18.155.129.4|:443... connected.\n",
      "HTTP request sent, awaiting response... 200 OK\n",
      "Length: 560 [text/plain]\n",
      "Saving to: ‘models/image_encoder/config.json’\n",
      "\n",
      "models/image_encode 100%[===================>]     560  --.-KB/s    in 0s      \n",
      "\n",
      "2023-11-17 15:31:12 (213 MB/s) - ‘models/image_encoder/config.json’ saved [560/560]\n",
      "\n"
     ]
    }
   ],
   "source": [
    "!mkdir -p models/image_encoder\n",
    "!wget -P models https://huggingface.co/h94/IP-Adapter/resolve/main/sdxl_models/ip-adapter-plus-face_sdxl_vit-h.bin\n",
    "!wget -O models/image_encoder/pytorch_model.bin https://huggingface.co/h94/IP-Adapter/resolve/main/models/image_encoder/pytorch_model.bin\n",
    "!wget -O models/image_encoder/config.json       https://huggingface.co/h94/IP-Adapter/resolve/main/models/image_encoder/config.json"
   ]
  },
  {
   "cell_type": "code",
   "execution_count": 3,
   "metadata": {},
   "outputs": [
    {
     "name": "stdout",
     "output_type": "stream",
     "text": [
      "Collecting git+https://github.com/tencent-ailab/IP-Adapter.git\n",
      "  Cloning https://github.com/tencent-ailab/IP-Adapter.git to /tmp/pip-req-build-osvdmrp_\n",
      "  Running command git clone --filter=blob:none --quiet https://github.com/tencent-ailab/IP-Adapter.git /tmp/pip-req-build-osvdmrp_\n",
      "  Resolved https://github.com/tencent-ailab/IP-Adapter.git to commit e317f750e1829e846c944b9fdd7a2f2842c46501\n",
      "  Installing build dependencies ... \u001b[?25ldone\n",
      "\u001b[?25h  Getting requirements to build wheel ... \u001b[?25ldone\n",
      "\u001b[?25h  Preparing metadata (pyproject.toml) ... \u001b[?25ldone\n",
      "\u001b[?25hCollecting diffusers==0.22.1\n",
      "  Downloading diffusers-0.22.1-py3-none-any.whl.metadata (18 kB)\n",
      "Collecting transformers\n",
      "  Downloading transformers-4.35.2-py3-none-any.whl.metadata (123 kB)\n",
      "\u001b[2K     \u001b[90m━━━━━━━━━━━━━━━━━━━━━━━━━━━━━━━━━━━━━━━\u001b[0m \u001b[32m123.5/123.5 kB\u001b[0m \u001b[31m3.5 MB/s\u001b[0m eta \u001b[36m0:00:00\u001b[0m\n",
      "\u001b[?25hCollecting einops\n",
      "  Downloading einops-0.7.0-py3-none-any.whl.metadata (13 kB)\n",
      "Requirement already satisfied: Pillow in /usr/local/lib/python3.10/dist-packages (from diffusers==0.22.1) (9.3.0)\n",
      "Requirement already satisfied: filelock in /usr/local/lib/python3.10/dist-packages (from diffusers==0.22.1) (3.9.0)\n",
      "Collecting huggingface-hub>=0.13.2 (from diffusers==0.22.1)\n",
      "  Downloading huggingface_hub-0.19.4-py3-none-any.whl.metadata (14 kB)\n",
      "Requirement already satisfied: importlib-metadata in /usr/lib/python3/dist-packages (from diffusers==0.22.1) (4.6.4)\n",
      "Requirement already satisfied: numpy in /usr/local/lib/python3.10/dist-packages (from diffusers==0.22.1) (1.24.1)\n",
      "Collecting regex!=2019.12.17 (from diffusers==0.22.1)\n",
      "  Downloading regex-2023.10.3-cp310-cp310-manylinux_2_17_x86_64.manylinux2014_x86_64.whl.metadata (40 kB)\n",
      "\u001b[2K     \u001b[90m━━━━━━━━━━━━━━━━━━━━━━━━━━━━━━━━━━━━━━━━\u001b[0m \u001b[32m40.9/40.9 kB\u001b[0m \u001b[31m4.7 MB/s\u001b[0m eta \u001b[36m0:00:00\u001b[0m\n",
      "\u001b[?25hRequirement already satisfied: requests in /usr/local/lib/python3.10/dist-packages (from diffusers==0.22.1) (2.31.0)\n",
      "Collecting safetensors>=0.3.1 (from diffusers==0.22.1)\n",
      "  Downloading safetensors-0.4.0-cp310-cp310-manylinux_2_17_x86_64.manylinux2014_x86_64.whl.metadata (3.8 kB)\n",
      "Requirement already satisfied: packaging>=20.0 in /usr/local/lib/python3.10/dist-packages (from transformers) (23.2)\n",
      "Requirement already satisfied: pyyaml>=5.1 in /usr/local/lib/python3.10/dist-packages (from transformers) (6.0.1)\n",
      "Collecting tokenizers<0.19,>=0.14 (from transformers)\n",
      "  Downloading tokenizers-0.15.0-cp310-cp310-manylinux_2_17_x86_64.manylinux2014_x86_64.whl.metadata (6.7 kB)\n",
      "Collecting tqdm>=4.27 (from transformers)\n",
      "  Downloading tqdm-4.66.1-py3-none-any.whl.metadata (57 kB)\n",
      "\u001b[2K     \u001b[90m━━━━━━━━━━━━━━━━━━━━━━━━━━━━━━━━━━━━━━━━\u001b[0m \u001b[32m57.6/57.6 kB\u001b[0m \u001b[31m8.2 MB/s\u001b[0m eta \u001b[36m0:00:00\u001b[0m\n",
      "\u001b[?25hCollecting fsspec>=2023.5.0 (from huggingface-hub>=0.13.2->diffusers==0.22.1)\n",
      "  Downloading fsspec-2023.10.0-py3-none-any.whl.metadata (6.8 kB)\n",
      "Requirement already satisfied: typing-extensions>=3.7.4.3 in /usr/local/lib/python3.10/dist-packages (from huggingface-hub>=0.13.2->diffusers==0.22.1) (4.4.0)\n",
      "Requirement already satisfied: charset-normalizer<4,>=2 in /usr/local/lib/python3.10/dist-packages (from requests->diffusers==0.22.1) (2.1.1)\n",
      "Requirement already satisfied: idna<4,>=2.5 in /usr/local/lib/python3.10/dist-packages (from requests->diffusers==0.22.1) (3.4)\n",
      "Requirement already satisfied: urllib3<3,>=1.21.1 in /usr/local/lib/python3.10/dist-packages (from requests->diffusers==0.22.1) (1.26.13)\n",
      "Requirement already satisfied: certifi>=2017.4.17 in /usr/local/lib/python3.10/dist-packages (from requests->diffusers==0.22.1) (2022.12.7)\n",
      "Downloading diffusers-0.22.1-py3-none-any.whl (1.7 MB)\n",
      "\u001b[2K   \u001b[90m━━━━━━━━━━━━━━━━━━━━━━━━━━━━━━━━━━━━━━━━\u001b[0m \u001b[32m1.7/1.7 MB\u001b[0m \u001b[31m30.7 MB/s\u001b[0m eta \u001b[36m0:00:00\u001b[0ma \u001b[36m0:00:01\u001b[0m\n",
      "\u001b[?25hDownloading transformers-4.35.2-py3-none-any.whl (7.9 MB)\n",
      "\u001b[2K   \u001b[90m━━━━━━━━━━━━━━━━━━━━━━━━━━━━━━━━━━━━━━━━\u001b[0m \u001b[32m7.9/7.9 MB\u001b[0m \u001b[31m80.3 MB/s\u001b[0m eta \u001b[36m0:00:00\u001b[0m:00:01\u001b[0m00:01\u001b[0m\n",
      "\u001b[?25hDownloading einops-0.7.0-py3-none-any.whl (44 kB)\n",
      "\u001b[2K   \u001b[90m━━━━━━━━━━━━━━━━━━━━━━━━━━━━━━━━━━━━━━━━\u001b[0m \u001b[32m44.6/44.6 kB\u001b[0m \u001b[31m5.2 MB/s\u001b[0m eta \u001b[36m0:00:00\u001b[0m\n",
      "\u001b[?25hDownloading huggingface_hub-0.19.4-py3-none-any.whl (311 kB)\n",
      "\u001b[2K   \u001b[90m━━━━━━━━━━━━━━━━━━━━━━━━━━━━━━━━━━━━━━━━\u001b[0m \u001b[32m311.7/311.7 kB\u001b[0m \u001b[31m27.9 MB/s\u001b[0m eta \u001b[36m0:00:00\u001b[0m\n",
      "\u001b[?25hDownloading regex-2023.10.3-cp310-cp310-manylinux_2_17_x86_64.manylinux2014_x86_64.whl (773 kB)\n",
      "\u001b[2K   \u001b[90m━━━━━━━━━━━━━━━━━━━━━━━━━━━━━━━━━━━━━━━━\u001b[0m \u001b[32m773.9/773.9 kB\u001b[0m \u001b[31m40.9 MB/s\u001b[0m eta \u001b[36m0:00:00\u001b[0m\n",
      "\u001b[?25hDownloading safetensors-0.4.0-cp310-cp310-manylinux_2_17_x86_64.manylinux2014_x86_64.whl (1.3 MB)\n",
      "\u001b[2K   \u001b[90m━━━━━━━━━━━━━━━━━━━━━━━━━━━━━━━━━━━━━━━━\u001b[0m \u001b[32m1.3/1.3 MB\u001b[0m \u001b[31m43.5 MB/s\u001b[0m eta \u001b[36m0:00:00\u001b[0m\n",
      "\u001b[?25hDownloading tokenizers-0.15.0-cp310-cp310-manylinux_2_17_x86_64.manylinux2014_x86_64.whl (3.8 MB)\n",
      "\u001b[2K   \u001b[90m━━━━━━━━━━━━━━━━━━━━━━━━━━━━━━━━━━━━━━━━\u001b[0m \u001b[32m3.8/3.8 MB\u001b[0m \u001b[31m66.4 MB/s\u001b[0m eta \u001b[36m0:00:00\u001b[0m:00:01\u001b[0m\n",
      "\u001b[?25hDownloading tqdm-4.66.1-py3-none-any.whl (78 kB)\n",
      "\u001b[2K   \u001b[90m━━━━━━━━━━━━━━━━━━━━━━━━━━━━━━━━━━━━━━━━\u001b[0m \u001b[32m78.3/78.3 kB\u001b[0m \u001b[31m6.6 MB/s\u001b[0m eta \u001b[36m0:00:00\u001b[0m\n",
      "\u001b[?25hDownloading fsspec-2023.10.0-py3-none-any.whl (166 kB)\n",
      "\u001b[2K   \u001b[90m━━━━━━━━━━━━━━━━━━━━━━━━━━━━━━━━━━━━━━━━\u001b[0m \u001b[32m166.4/166.4 kB\u001b[0m \u001b[31m18.6 MB/s\u001b[0m eta \u001b[36m0:00:00\u001b[0m\n",
      "\u001b[?25hBuilding wheels for collected packages: ip-adapter\n",
      "  Building wheel for ip-adapter (pyproject.toml) ... \u001b[?25ldone\n",
      "\u001b[?25h  Created wheel for ip-adapter: filename=ip_adapter-0.1.0-py3-none-any.whl size=21729 sha256=d97f5eaadca9d730bb5b9effe8fcd36000ebf1db1adf45aa6ab9baef4f3be79a\n",
      "  Stored in directory: /tmp/pip-ephem-wheel-cache-nhcuo901/wheels/db/b9/4a/cbddf1447388c3c9e674d4b1eb51f4661cd8ae89b90f34deee\n",
      "Successfully built ip-adapter\n",
      "Installing collected packages: tqdm, safetensors, regex, ip-adapter, fsspec, einops, huggingface-hub, tokenizers, diffusers, transformers\n",
      "  Attempting uninstall: fsspec\n",
      "    Found existing installation: fsspec 2023.4.0\n",
      "    Uninstalling fsspec-2023.4.0:\n",
      "      Successfully uninstalled fsspec-2023.4.0\n",
      "Successfully installed diffusers-0.22.1 einops-0.7.0 fsspec-2023.10.0 huggingface-hub-0.19.4 ip-adapter-0.1.0 regex-2023.10.3 safetensors-0.4.0 tokenizers-0.15.0 tqdm-4.66.1 transformers-4.35.2\n",
      "\u001b[33mWARNING: Running pip as the 'root' user can result in broken permissions and conflicting behaviour with the system package manager. It is recommended to use a virtual environment instead: https://pip.pypa.io/warnings/venv\u001b[0m\u001b[33m\n",
      "\u001b[0m"
     ]
    }
   ],
   "source": [
    "!pip install diffusers==0.22.1 accelerate transformers einops git+https://github.com/tencent-ailab/IP-Adapter.git"
   ]
  },
  {
   "cell_type": "code",
   "execution_count": 3,
   "metadata": {},
   "outputs": [],
   "source": [
    "import torch\n",
    "from diffusers import StableDiffusionXLPipeline\n",
    "from PIL import Image\n",
    "\n",
    "from ip_adapter import IPAdapterPlusXL\n",
    "from ip_adapter.custom_pipelines import StableDiffusionXLCustomPipeline\n"
   ]
  },
  {
   "cell_type": "code",
   "execution_count": 1,
   "metadata": {},
   "outputs": [
    {
     "data": {
      "text/plain": [
       "2"
      ]
     },
     "execution_count": 1,
     "metadata": {},
     "output_type": "execute_result"
    }
   ],
   "source": [
    "1+1"
   ]
  },
  {
   "cell_type": "code",
   "execution_count": 8,
   "metadata": {},
   "outputs": [
    {
     "name": "stderr",
     "output_type": "stream",
     "text": [
      "Cannot initialize model with low cpu memory usage because `accelerate` was not found in the environment. Defaulting to `low_cpu_mem_usage=False`. It is strongly recommended to install `accelerate` for faster and less memory-intense model loading. You can do so with: \n",
      "```\n",
      "pip install accelerate\n",
      "```\n",
      ".\n"
     ]
    },
    {
     "data": {
      "application/vnd.jupyter.widget-view+json": {
       "model_id": "fa4184c7c086429ca391ca831399365f",
       "version_major": 2,
       "version_minor": 0
      },
      "text/plain": [
       "Loading pipeline components...:   0%|          | 0/7 [00:00<?, ?it/s]"
      ]
     },
     "metadata": {},
     "output_type": "display_data"
    }
   ],
   "source": [
    "# load SDXL pipeline\n",
    "pipe = StableDiffusionXLCustomPipeline.from_pretrained(\n",
    "    \"stabilityai/stable-diffusion-xl-base-1.0\",\n",
    "    torch_dtype=torch.float16,\n",
    "    add_watermarker=False,\n",
    ")"
   ]
  },
  {
   "cell_type": "code",
   "execution_count": 9,
   "metadata": {},
   "outputs": [],
   "source": [
    "# load ip-adapter\n",
    "ip_model = IPAdapterPlusXL(pipe, \"models/image_encoder\", \n",
    "                           \"./models/ip-adapter-plus-face_sdxl_vit-h.bin\", \n",
    "                           \"cuda\", num_tokens=16)\n"
   ]
  },
  {
   "cell_type": "code",
   "execution_count": 10,
   "metadata": {},
   "outputs": [],
   "source": [
    "# read image prompt\n",
    "image = Image.open(\"my_phil_ip.png\")\n",
    "# image.resize((512, 512))"
   ]
  },
  {
   "cell_type": "code",
   "execution_count": 11,
   "metadata": {},
   "outputs": [
    {
     "data": {
      "application/vnd.jupyter.widget-view+json": {
       "model_id": "9bc50233cf5b4a6086d9c1bf4224f3c5",
       "version_major": 2,
       "version_minor": 0
      },
      "text/plain": [
       "  0%|          | 0/30 [00:00<?, ?it/s]"
      ]
     },
     "metadata": {},
     "output_type": "display_data"
    }
   ],
   "source": [
    "images = ip_model.generate(pil_image=image, num_samples=1, num_inference_steps=30,\n",
    "                           prompt=\"best quality, high quality, wearing sunglasses on the beach\", scale=0.6)\n"
   ]
  }
 ],
 "metadata": {
  "kernelspec": {
   "display_name": "Python 3",
   "language": "python",
   "name": "python3"
  },
  "language_info": {
   "codemirror_mode": {
    "name": "ipython",
    "version": 3
   },
   "file_extension": ".py",
   "mimetype": "text/x-python",
   "name": "python",
   "nbconvert_exporter": "python",
   "pygments_lexer": "ipython3",
   "version": "3.10.8"
  }
 },
 "nbformat": 4,
 "nbformat_minor": 2
}
