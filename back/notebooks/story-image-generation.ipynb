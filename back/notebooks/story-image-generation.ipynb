{
 "cells": [
  {
   "cell_type": "code",
   "execution_count": 1,
   "metadata": {},
   "outputs": [
    {
     "name": "stdout",
     "output_type": "stream",
     "text": [
      "Requirement already satisfied: openai in /usr/local/python/3.10.8/lib/python3.10/site-packages (1.2.4)\n",
      "Requirement already satisfied: python-dotenv in /usr/local/python/3.10.8/lib/python3.10/site-packages (1.0.0)\n",
      "Requirement already satisfied: anyio<4,>=3.5.0 in /usr/local/python/3.10.8/lib/python3.10/site-packages (from openai) (3.7.1)\n",
      "Requirement already satisfied: distro<2,>=1.7.0 in /usr/local/python/3.10.8/lib/python3.10/site-packages (from openai) (1.8.0)\n",
      "Requirement already satisfied: httpx<1,>=0.23.0 in /usr/local/python/3.10.8/lib/python3.10/site-packages (from openai) (0.25.1)\n",
      "Requirement already satisfied: pydantic<3,>=1.9.0 in /usr/local/python/3.10.8/lib/python3.10/site-packages (from openai) (2.5.1)\n",
      "Requirement already satisfied: tqdm>4 in /usr/local/python/3.10.8/lib/python3.10/site-packages (from openai) (4.66.1)\n",
      "Requirement already satisfied: typing-extensions<5,>=4.5 in /home/codespace/.local/lib/python3.10/site-packages (from openai) (4.8.0)\n",
      "Requirement already satisfied: idna>=2.8 in /home/codespace/.local/lib/python3.10/site-packages (from anyio<4,>=3.5.0->openai) (3.4)\n",
      "Requirement already satisfied: sniffio>=1.1 in /home/codespace/.local/lib/python3.10/site-packages (from anyio<4,>=3.5.0->openai) (1.3.0)\n",
      "Requirement already satisfied: exceptiongroup in /home/codespace/.local/lib/python3.10/site-packages (from anyio<4,>=3.5.0->openai) (1.1.3)\n",
      "Requirement already satisfied: certifi in /home/codespace/.local/lib/python3.10/site-packages (from httpx<1,>=0.23.0->openai) (2023.7.22)\n",
      "Requirement already satisfied: httpcore in /usr/local/python/3.10.8/lib/python3.10/site-packages (from httpx<1,>=0.23.0->openai) (1.0.2)\n",
      "Requirement already satisfied: annotated-types>=0.4.0 in /usr/local/python/3.10.8/lib/python3.10/site-packages (from pydantic<3,>=1.9.0->openai) (0.6.0)\n",
      "Requirement already satisfied: pydantic-core==2.14.3 in /usr/local/python/3.10.8/lib/python3.10/site-packages (from pydantic<3,>=1.9.0->openai) (2.14.3)\n",
      "Requirement already satisfied: h11<0.15,>=0.13 in /usr/local/python/3.10.8/lib/python3.10/site-packages (from httpcore->httpx<1,>=0.23.0->openai) (0.14.0)\n",
      "\n",
      "\u001b[1m[\u001b[0m\u001b[34;49mnotice\u001b[0m\u001b[1;39;49m]\u001b[0m\u001b[39;49m A new release of pip is available: \u001b[0m\u001b[31;49m23.3\u001b[0m\u001b[39;49m -> \u001b[0m\u001b[32;49m23.3.1\u001b[0m\n",
      "\u001b[1m[\u001b[0m\u001b[34;49mnotice\u001b[0m\u001b[1;39;49m]\u001b[0m\u001b[39;49m To update, run: \u001b[0m\u001b[32;49mpython -m pip install --upgrade pip\u001b[0m\n"
     ]
    }
   ],
   "source": [
    "!pip install openai python-dotenv"
   ]
  },
  {
   "cell_type": "code",
   "execution_count": 1,
   "metadata": {},
   "outputs": [
    {
     "name": "stdout",
     "output_type": "stream",
     "text": [
      "--2023-11-17 10:13:29--  https://huggingface.co/stabilityai/stable-diffusion-xl-base-1.0/resolve/main/sd_xl_base_1.0.safetensors?download=true\n",
      "Resolving huggingface.co (huggingface.co)... 52.84.90.33, 52.84.90.129, 52.84.90.122, ...\n",
      "Connecting to huggingface.co (huggingface.co)|52.84.90.33|:443... connected.\n",
      "HTTP request sent, awaiting response... 302 Found\n",
      "Location: https://cdn-lfs.huggingface.co/repos/7f/2f/7f2fe2e27137549cd28e570e5bac269b49ebcf1e0e47279c7a941ebe5c948e02/31e35c80fc4829d14f90153f4c74cd59c90b779f6afe05a74cd6120b893f7e5b?response-content-disposition=attachment%3B+filename*%3DUTF-8%27%27sd_xl_base_1.0.safetensors%3B+filename%3D%22sd_xl_base_1.0.safetensors%22%3B&Expires=1700472889&Policy=eyJTdGF0ZW1lbnQiOlt7IkNvbmRpdGlvbiI6eyJEYXRlTGVzc1RoYW4iOnsiQVdTOkVwb2NoVGltZSI6MTcwMDQ3Mjg4OX19LCJSZXNvdXJjZSI6Imh0dHBzOi8vY2RuLWxmcy5odWdnaW5nZmFjZS5jby9yZXBvcy83Zi8yZi83ZjJmZTJlMjcxMzc1NDljZDI4ZTU3MGU1YmFjMjY5YjQ5ZWJjZjFlMGU0NzI3OWM3YTk0MWViZTVjOTQ4ZTAyLzMxZTM1YzgwZmM0ODI5ZDE0ZjkwMTUzZjRjNzRjZDU5YzkwYjc3OWY2YWZlMDVhNzRjZDYxMjBiODkzZjdlNWI%7EcmVzcG9uc2UtY29udGVudC1kaXNwb3NpdGlvbj0qIn1dfQ__&Signature=yU8VIXuyCWXGrV4osQ5-A%7Elc6uetZdntUtBDCMBCEfPLn4FbyMv4ufB78ASgiU76nwkATQye83s86y4NOM-zHeGgPvavuzlXvY1TzaJA9dnshM-j9IGNfcBG4aseywCLDcPQWR1lpzWDrOedsxq55UrpHXUQh%7EQqVNVek3ZJRkveOJyahCohAqBzdXJZ2U3q1Lx1kr4NMoj-TIjXGvM0mVajx7sl30MymdnWrDp0HOfcSvsQCj%7E28T2TutklCynzYBDO0sxPa9MuLveqpn3cwvYhq-cD5MBF85bxfc1EdiklFSbYRZLP8LhNS6sYB-vZbtMGBKYxvFVJIICgv3%7EInw__&Key-Pair-Id=KVTP0A1DKRTAX [following]\n",
      "--2023-11-17 10:13:29--  https://cdn-lfs.huggingface.co/repos/7f/2f/7f2fe2e27137549cd28e570e5bac269b49ebcf1e0e47279c7a941ebe5c948e02/31e35c80fc4829d14f90153f4c74cd59c90b779f6afe05a74cd6120b893f7e5b?response-content-disposition=attachment%3B+filename*%3DUTF-8%27%27sd_xl_base_1.0.safetensors%3B+filename%3D%22sd_xl_base_1.0.safetensors%22%3B&Expires=1700472889&Policy=eyJTdGF0ZW1lbnQiOlt7IkNvbmRpdGlvbiI6eyJEYXRlTGVzc1RoYW4iOnsiQVdTOkVwb2NoVGltZSI6MTcwMDQ3Mjg4OX19LCJSZXNvdXJjZSI6Imh0dHBzOi8vY2RuLWxmcy5odWdnaW5nZmFjZS5jby9yZXBvcy83Zi8yZi83ZjJmZTJlMjcxMzc1NDljZDI4ZTU3MGU1YmFjMjY5YjQ5ZWJjZjFlMGU0NzI3OWM3YTk0MWViZTVjOTQ4ZTAyLzMxZTM1YzgwZmM0ODI5ZDE0ZjkwMTUzZjRjNzRjZDU5YzkwYjc3OWY2YWZlMDVhNzRjZDYxMjBiODkzZjdlNWI%7EcmVzcG9uc2UtY29udGVudC1kaXNwb3NpdGlvbj0qIn1dfQ__&Signature=yU8VIXuyCWXGrV4osQ5-A%7Elc6uetZdntUtBDCMBCEfPLn4FbyMv4ufB78ASgiU76nwkATQye83s86y4NOM-zHeGgPvavuzlXvY1TzaJA9dnshM-j9IGNfcBG4aseywCLDcPQWR1lpzWDrOedsxq55UrpHXUQh%7EQqVNVek3ZJRkveOJyahCohAqBzdXJZ2U3q1Lx1kr4NMoj-TIjXGvM0mVajx7sl30MymdnWrDp0HOfcSvsQCj%7E28T2TutklCynzYBDO0sxPa9MuLveqpn3cwvYhq-cD5MBF85bxfc1EdiklFSbYRZLP8LhNS6sYB-vZbtMGBKYxvFVJIICgv3%7EInw__&Key-Pair-Id=KVTP0A1DKRTAX\n",
      "Resolving cdn-lfs.huggingface.co (cdn-lfs.huggingface.co)... 18.244.114.123, 18.244.114.35, 18.244.114.14, ...\n",
      "Connecting to cdn-lfs.huggingface.co (cdn-lfs.huggingface.co)|18.244.114.123|:443... connected.\n",
      "HTTP request sent, awaiting response... 200 OK\n",
      "Length: 6938078334 (6.5G) [binary/octet-stream]\n",
      "Saving to: ‘models/sdxl_base.safetensors’\n",
      "\n",
      "tensors               6%[>                   ] 433.64M  50.4MB/s    eta 88s    ^C\n"
     ]
    }
   ],
   "source": [
    "# download sdxl & ipadapter\n",
    "base_model_path = \"stabilityai/stable-diffusion-xl-base-1.0\"\n",
    "image_encoder_path = \"models/image_encoder.safetensors\"\n",
    "ip_ckpt = \"models/sdxl_ipadapter_plus_face.safetensors\"\n",
    "\n",
    "!mkdir models\n",
    "!wget -O {ip_ckpt} https://huggingface.co/h94/IP-Adapter/resolve/main/sdxl_models/ip-adapter-plus-face_sdxl_vit-h.safetensors\n",
    "!wget -O {image_encoder_path} https://huggingface.co/h94/IP-Adapter/resolve/main/sdxl_models/image_encoder/model.safetensors"
   ]
  },
  {
   "cell_type": "code",
   "execution_count": 2,
   "metadata": {},
   "outputs": [
    {
     "data": {
      "text/plain": [
       "True"
      ]
     },
     "execution_count": 2,
     "metadata": {},
     "output_type": "execute_result"
    }
   ],
   "source": [
    "import dotenv\n",
    "import openai\n",
    "import re\n",
    "dotenv.load_dotenv('../.env')"
   ]
  },
  {
   "cell_type": "code",
   "execution_count": 56,
   "metadata": {},
   "outputs": [],
   "source": [
    "hero_name = \"Léa\"\n",
    "story_idea = \"une jeune sorcière en formation qui doit prouver ses compétences en sauvant son village d'un sortilège maléfique\"\n",
    "instructions = \"\"\"\n",
    "Consignes:\n",
    "Un chapitre doit être court et se terminer par un cliffhanger.\n",
    "Un Chapitre est divisé en plusieurs court paragraphes.\n",
    "Un paragraphes contient Deux phrases au maximum.\"\"\"\n",
    "imagen_instructions = \"\"\"-----\n",
    "Write a very short one sentence visual description of the scene. Include a very short description of the character and its environnement. Keep it short and simple.\"\"\""
   ]
  },
  {
   "cell_type": "code",
   "execution_count": 12,
   "metadata": {},
   "outputs": [],
   "source": [
    "def generate_prompt(story_idea, hero_name, instructions):\n",
    "    prompt = f\"\"\"Ecris une histoire pour enfant composée de 5 chapitres.\n",
    "{story_idea}\n",
    "Personnage principal: {hero_name}\n",
    "{instructions}\n",
    "\"\"\"\n",
    "    return prompt"
   ]
  },
  {
   "cell_type": "code",
   "execution_count": 13,
   "metadata": {},
   "outputs": [],
   "source": [
    "def generate_story(story_idea, hero_name, instructions):\n",
    "    prompt = generate_prompt(story_idea, hero_name, instructions)\n",
    "    response = openai.chat.completions.create(\n",
    "        model=\"gpt-3.5-turbo\",\n",
    "        messages=[{\"role\":\"user\", \"content\": prompt}]\n",
    "    )\n",
    "    full_text = response.choices[0].message.content\n",
    "    return full_text"
   ]
  },
  {
   "cell_type": "code",
   "execution_count": 14,
   "metadata": {},
   "outputs": [
    {
     "name": "stdout",
     "output_type": "stream",
     "text": [
      "Chapitre 1: Les débuts de Léa\n",
      "\n",
      "Léa, une jeune sorcière en formation, vivait dans un petit village paisible entouré de forêts enchantées. Depuis toute petite, elle rêvait de devenir une grande sorcière et d'aider les habitants de son village avec ses pouvoirs magiques. Un jour, son plus grand rêve se réalisa lorsqu'elle fut acceptée à l'Académie des Sorcières. Elle quitta son village avec enthousiasme, les yeux remplis d'étoiles. Mais à peine arrivée, elle fut confrontée à un défi inattendu : un sortilège maléfique enveloppa son village natal, plongeant ses habitants dans le désespoir. Léa savait qu'elle devait revenir et sauver son village coûte que coûte.\n",
      "\n",
      "Chapitre 2: La quête de Léa\n",
      "\n",
      "Déterminée à sauver son village, Léa commença sa quête. Elle se rendit dans la bibliothèque de l'Académie où elle étudia les sorts et les enchantements pour contrer le sortilège maléfique. Elle découvrit qu'elle devait réunir sept ingrédients magiques dispersés dans le royaume enchanté, afin de créer un puissant contre-sort. Sans hésiter, Léa se mit en route, le cœur rempli d'espoir.\n",
      "\n",
      "Chapitre 3: Les rencontres magiques de Léa\n",
      "\n",
      "Léa parcourut le royaume enchanté, rencontrant des créatures magiques sur sa route. Elle fit la connaissance d'un dragon sage qui lui indiqua où trouver une potion rare dans la montagne des Neiges Éternelles. Elle rencontra également un lutin malicieux qui lui offrit une amulette enchantée pour se protéger des mauvais sorts. Avec l'aide de ses nouveaux amis, Léa avançait un peu plus chaque jour vers la réussite de sa quête.\n",
      "\n",
      "Chapitre 4: Le piège diabolique\n",
      "\n",
      "Alors que Léa était sur le point de trouver le dernier ingrédient magique, elle se retrouva coincée dans un piège diabolique tendu par le sorcier maléfique qui avait lancé le sortilège sur son village. Attachée et impuissante, elle se demandait comment elle pourrait s'en sortir. Soudain, un bruit étrange retentit dans les bois environnants, attirant l'attention du sorcier. Profitant de cette diversion, Léa fit jouer sa magie et se libéra rapidement.\n",
      "\n",
      "Chapitre 5: La victoire de Léa\n",
      "\n",
      "Libérée du piège, Léa récupéra le dernier ingrédient magique et retourna précipitamment vers son village. Elle utilisa tous les sorts appris à l'Académie pour lancer le puissant contre-sort sur le village assombri. Un vent de lumière balaya le sortilège maléfique, rendant la vie et la joie à tous les habitants. Les villageois applaudirent Léa, la remerciant d'avoir sauvé leur village. Avec fierté, Léa réalisa que son rêve de devenir une grande sorcière était désormais réalisé, et qu'elle était prête à affronter de nouveaux défis magiques pour aider ceux qui en avaient besoin.\n"
     ]
    }
   ],
   "source": [
    "story = generate_story(story_idea, hero_name, instructions)\n",
    "print(story)"
   ]
  },
  {
   "cell_type": "code",
   "execution_count": 33,
   "metadata": {},
   "outputs": [],
   "source": [
    "\n",
    "def format_raw_story(story):\n",
    "\n",
    "    # split story into chapters\n",
    "    pattern = r\"(Chapitre \\d+: [^\\n]+)\\n\\n(.*?)(?=\\n\\nChapitre|$)\"\n",
    "\n",
    "    # Find all matches\n",
    "    story_by_chapters = re.findall(pattern, story, re.DOTALL)\n",
    "\n",
    "    # Split the chapters into paragraphs of at least 100 characters\n",
    "    story_by_chapters_and_paragraphs = []\n",
    "    for chapter in story_by_chapters:\n",
    "        chapter_title = chapter[0]\n",
    "        chapter_content = chapter[1]\n",
    "        chapter_content_splited = []\n",
    "        for sentence in chapter_content.split(\".\"):\n",
    "            sentence = sentence.strip()\n",
    "            if sentence == \"\": continue\n",
    "            if len(chapter_content_splited) == 0:\n",
    "                chapter_content_splited.append(sentence)\n",
    "            elif len(chapter_content_splited[-1]) < 100:\n",
    "                chapter_content_splited[-1] += f\". {sentence}\"\n",
    "            else:\n",
    "                chapter_content_splited.append(sentence)\n",
    "        story_by_chapters_and_paragraphs.append((chapter_title, chapter_content_splited))\n",
    "    \n",
    "    return story_by_chapters_and_paragraphs"
   ]
  },
  {
   "cell_type": "code",
   "execution_count": 34,
   "metadata": {},
   "outputs": [],
   "source": [
    "formated_story = format_raw_story(story)"
   ]
  },
  {
   "cell_type": "code",
   "execution_count": 60,
   "metadata": {},
   "outputs": [
    {
     "data": {
      "text/plain": [
       "[('Chapitre 1: Les débuts de Léa',\n",
       "  ['Léa, une jeune sorcière en formation, vivait dans un petit village paisible entouré de forêts enchantées',\n",
       "   \"Depuis toute petite, elle rêvait de devenir une grande sorcière et d'aider les habitants de son village avec ses pouvoirs magiques\",\n",
       "   \"Un jour, son plus grand rêve se réalisa lorsqu'elle fut acceptée à l'Académie des Sorcières. Elle quitta son village avec enthousiasme, les yeux remplis d'étoiles\",\n",
       "   'Mais à peine arrivée, elle fut confrontée à un défi inattendu : un sortilège maléfique enveloppa son village natal, plongeant ses habitants dans le désespoir',\n",
       "   \"Léa savait qu'elle devait revenir et sauver son village coûte que coûte\"]),\n",
       " ('Chapitre 2: La quête de Léa',\n",
       "  [\"Déterminée à sauver son village, Léa commença sa quête. Elle se rendit dans la bibliothèque de l'Académie où elle étudia les sorts et les enchantements pour contrer le sortilège maléfique\",\n",
       "   \"Elle découvrit qu'elle devait réunir sept ingrédients magiques dispersés dans le royaume enchanté, afin de créer un puissant contre-sort\",\n",
       "   \"Sans hésiter, Léa se mit en route, le cœur rempli d'espoir\"]),\n",
       " ('Chapitre 3: Les rencontres magiques de Léa',\n",
       "  [\"Léa parcourut le royaume enchanté, rencontrant des créatures magiques sur sa route. Elle fit la connaissance d'un dragon sage qui lui indiqua où trouver une potion rare dans la montagne des Neiges Éternelles\",\n",
       "   'Elle rencontra également un lutin malicieux qui lui offrit une amulette enchantée pour se protéger des mauvais sorts',\n",
       "   \"Avec l'aide de ses nouveaux amis, Léa avançait un peu plus chaque jour vers la réussite de sa quête\"]),\n",
       " ('Chapitre 4: Le piège diabolique',\n",
       "  ['Alors que Léa était sur le point de trouver le dernier ingrédient magique, elle se retrouva coincée dans un piège diabolique tendu par le sorcier maléfique qui avait lancé le sortilège sur son village',\n",
       "   \"Attachée et impuissante, elle se demandait comment elle pourrait s'en sortir. Soudain, un bruit étrange retentit dans les bois environnants, attirant l'attention du sorcier\",\n",
       "   'Profitant de cette diversion, Léa fit jouer sa magie et se libéra rapidement']),\n",
       " ('Chapitre 5: La victoire de Léa',\n",
       "  ['Libérée du piège, Léa récupéra le dernier ingrédient magique et retourna précipitamment vers son village',\n",
       "   \"Elle utilisa tous les sorts appris à l'Académie pour lancer le puissant contre-sort sur le village assombri\",\n",
       "   \"Un vent de lumière balaya le sortilège maléfique, rendant la vie et la joie à tous les habitants. Les villageois applaudirent Léa, la remerciant d'avoir sauvé leur village\",\n",
       "   \"Avec fierté, Léa réalisa que son rêve de devenir une grande sorcière était désormais réalisé, et qu'elle était prête à affronter de nouveaux défis magiques pour aider ceux qui en avaient besoin\"])]"
      ]
     },
     "execution_count": 60,
     "metadata": {},
     "output_type": "execute_result"
    }
   ],
   "source": [
    "formated_story"
   ]
  },
  {
   "cell_type": "code",
   "execution_count": 61,
   "metadata": {},
   "outputs": [],
   "source": [
    "def text_to_images_desc(chapter_content):\n",
    "    response = openai.chat.completions.create(\n",
    "        model=\"gpt-3.5-turbo\",\n",
    "        messages=[{\"role\":\"user\", \"content\": f\"\"\"{chapter_content}\n",
    "{imagen_instructions}\"\"\"}\n",
    "                  ],\n",
    "        max_tokens=50\n",
    "    )\n",
    "    full_text = response.choices[0].message.content\n",
    "    return full_text\n",
    "\n",
    "                   \n",
    "    "
   ]
  },
  {
   "cell_type": "code",
   "execution_count": 62,
   "metadata": {},
   "outputs": [
    {
     "name": "stdout",
     "output_type": "stream",
     "text": [
      "Chapitre 1: Les débuts de Léa\n",
      "Chapitre 2: La quête de Léa\n",
      "Chapitre 3: Les rencontres magiques de Léa\n",
      "Chapitre 4: Le piège diabolique\n",
      "Chapitre 5: La victoire de Léa\n"
     ]
    },
    {
     "data": {
      "text/plain": [
       "{'chapter_0': {'title': 'Chapitre 1: Les débuts de Léa',\n",
       "  'paragraph_0': {'text': 'Léa, une jeune sorcière en formation, vivait dans un petit village paisible entouré de forêts enchantées',\n",
       "   'image_desc': 'Léa, a young witch-in-training, resided in a serene village nestled amidst enchanting forests.'},\n",
       "  'paragraph_1': {'text': \"Depuis toute petite, elle rêvait de devenir une grande sorcière et d'aider les habitants de son village avec ses pouvoirs magiques\",\n",
       "   'image_desc': 'A young girl, surrounded by a quaint village, dreams of becoming a powerful witch to help its inhabitants.'},\n",
       "  'paragraph_2': {'text': \"Un jour, son plus grand rêve se réalisa lorsqu'elle fut acceptée à l'Académie des Sorcières. Elle quitta son village avec enthousiasme, les yeux remplis d'étoiles\",\n",
       "   'image_desc': 'A young girl, with excitement shining in her eyes, joyfully leaves her village as she sets off to the Witch Academy.'},\n",
       "  'paragraph_3': {'text': 'Mais à peine arrivée, elle fut confrontée à un défi inattendu : un sortilège maléfique enveloppa son village natal, plongeant ses habitants dans le désespoir',\n",
       "   'image_desc': 'A young woman, just arrived, stands at the entrance of her hometown, devastated by a sinister spell, surrounded by desolate villagers.'},\n",
       "  'paragraph_4': {'text': \"Léa savait qu'elle devait revenir et sauver son village coûte que coûte\",\n",
       "   'image_desc': 'Léa, determined and heroic, returns to her village to save it from an imminent threat.'}},\n",
       " 'chapter_1': {'title': 'Chapitre 2: La quête de Léa',\n",
       "  'paragraph_0': {'text': \"Déterminée à sauver son village, Léa commença sa quête. Elle se rendit dans la bibliothèque de l'Académie où elle étudia les sorts et les enchantements pour contrer le sortilège maléfique\",\n",
       "   'image_desc': 'Léa, determined and clutching a magical book, stood in the dimly lit library of the Academy, surrounded by towering bookshelves filled with ancient tomes and flickering candlelight.'},\n",
       "  'paragraph_1': {'text': \"Elle découvrit qu'elle devait réunir sept ingrédients magiques dispersés dans le royaume enchanté, afin de créer un puissant contre-sort\",\n",
       "   'image_desc': 'A determined young woman explores the magical kingdom, searching for seven scattered magical ingredients to create a powerful counter-spell.'},\n",
       "  'paragraph_2': {'text': \"Sans hésiter, Léa se mit en route, le cœur rempli d'espoir\",\n",
       "   'image_desc': 'Lea, a determined young woman, sets off on her journey with a hopeful heart.'}},\n",
       " 'chapter_2': {'title': 'Chapitre 3: Les rencontres magiques de Léa',\n",
       "  'paragraph_0': {'text': \"Léa parcourut le royaume enchanté, rencontrant des créatures magiques sur sa route. Elle fit la connaissance d'un dragon sage qui lui indiqua où trouver une potion rare dans la montagne des Neiges Éternelles\",\n",
       "   'image_desc': 'Léa, a brave adventurer in a magical kingdom, stands before a wise dragon who points her towards the snow-covered peaks of the Eternal Snowy Mountain.'},\n",
       "  'paragraph_1': {'text': 'Elle rencontra également un lutin malicieux qui lui offrit une amulette enchantée pour se protéger des mauvais sorts',\n",
       "   'image_desc': 'In a mystical forest, a mischievous elf presents a enchanted amulet to a young girl.'},\n",
       "  'paragraph_2': {'text': \"Avec l'aide de ses nouveaux amis, Léa avançait un peu plus chaque jour vers la réussite de sa quête\",\n",
       "   'image_desc': 'Léa, surrounded by her new friends, stepped confidently towards her goal, each day inching closer to success.'}},\n",
       " 'chapter_3': {'title': 'Chapitre 4: Le piège diabolique',\n",
       "  'paragraph_0': {'text': 'Alors que Léa était sur le point de trouver le dernier ingrédient magique, elle se retrouva coincée dans un piège diabolique tendu par le sorcier maléfique qui avait lancé le sortilège sur son village',\n",
       "   'image_desc': 'Léa, a young girl with determination in her eyes, finds herself trapped in a sinister trap set by the evil sorcerer, surrounded by a mysterious and enchanting magical forest.'},\n",
       "  'paragraph_1': {'text': \"Attachée et impuissante, elle se demandait comment elle pourrait s'en sortir. Soudain, un bruit étrange retentit dans les bois environnants, attirant l'attention du sorcier\",\n",
       "   'image_desc': 'A bound and helpless woman, surrounded by woods, is captivated by a mysterious noise, drawing the attention of a sorcerer.'},\n",
       "  'paragraph_2': {'text': 'Profitant de cette diversion, Léa fit jouer sa magie et se libéra rapidement',\n",
       "   'image_desc': 'In a magical burst of energy, Lea effortlessly breaks free from her restraints in a room filled with mysterious objects.'}},\n",
       " 'chapter_4': {'title': 'Chapitre 5: La victoire de Léa',\n",
       "  'paragraph_0': {'text': 'Libérée du piège, Léa récupéra le dernier ingrédient magique et retourna précipitamment vers son village',\n",
       "   'image_desc': 'Léa, a determined young girl, carries the last magical ingredient as she rushes back to her village, escaping a dangerous trap.'},\n",
       "  'paragraph_1': {'text': \"Elle utilisa tous les sorts appris à l'Académie pour lancer le puissant contre-sort sur le village assombri\",\n",
       "   'image_desc': 'A determined young mage stood surrounded by the crumbling darkness, wielding her vast arcane knowledge to cast a powerful counterspell upon the shadowed village.'},\n",
       "  'paragraph_2': {'text': \"Un vent de lumière balaya le sortilège maléfique, rendant la vie et la joie à tous les habitants. Les villageois applaudirent Léa, la remerciant d'avoir sauvé leur village\",\n",
       "   'image_desc': 'In a vibrant village, amidst the jubilant villagers, Léa stands as a beacon of light, her presence restoring life and joy to the once cursed land.'},\n",
       "  'paragraph_3': {'text': \"Avec fierté, Léa réalisa que son rêve de devenir une grande sorcière était désormais réalisé, et qu'elle était prête à affronter de nouveaux défis magiques pour aider ceux qui en avaient besoin\",\n",
       "   'image_desc': 'Léa, a young witch, stood confidently in her enchanting forest, knowing she was ready to tackle new magical challenges and use her powers to help others.'}}}"
      ]
     },
     "execution_count": 62,
     "metadata": {},
     "output_type": "execute_result"
    }
   ],
   "source": [
    "story_with_images_desc = dict()\n",
    "for i, chapter in enumerate(formated_story):\n",
    "    chapter_title = chapter[0]\n",
    "    chapter_content = chapter[1]\n",
    "    story_with_images_desc[f'chapter_{i}'] = dict()\n",
    "    story_with_images_desc[f'chapter_{i}']['title'] = chapter_title\n",
    "    print(chapter_title)\n",
    "    for j, paragraph in enumerate(chapter_content):\n",
    "        paragraph_image_desc = text_to_images_desc(paragraph)\n",
    "        story_with_images_desc[f'chapter_{i}'][f'paragraph_{j}'] = dict()\n",
    "        story_with_images_desc[f'chapter_{i}'][f'paragraph_{j}']['text'] = paragraph\n",
    "        story_with_images_desc[f'chapter_{i}'][f'paragraph_{j}']['image_desc'] = paragraph_image_desc\n",
    "\n",
    "story_with_images_desc\n",
    "        \n",
    "        \n"
   ]
  },
  {
   "cell_type": "markdown",
   "metadata": {},
   "source": [
    "# Gen images"
   ]
  },
  {
   "cell_type": "code",
   "execution_count": null,
   "metadata": {},
   "outputs": [],
   "source": [
    "import torch\n",
    "from diffusers import StableDiffusionXLPipeline\n",
    "from PIL import Image\n",
    "\n",
    "from ip_adapter import IPAdapterXL"
   ]
  },
  {
   "cell_type": "code",
   "execution_count": null,
   "metadata": {},
   "outputs": [],
   "source": [
    "# load SDXL pipeline\n",
    "pipe = StableDiffusionXLPipeline.from_pretrained(\n",
    "    base_model_path,\n",
    "    torch_dtype=torch.float16,\n",
    "    add_watermarker=False,\n",
    ")"
   ]
  },
  {
   "cell_type": "code",
   "execution_count": null,
   "metadata": {},
   "outputs": [],
   "source": [
    "# load ip-adapter\n",
    "ip_model = IPAdapterXL(pipe, image_encoder_path, ip_ckpt, \"cuda\")\n"
   ]
  },
  {
   "cell_type": "code",
   "execution_count": null,
   "metadata": {},
   "outputs": [],
   "source": [
    "# read image prompt\n",
    "image = Image.open(\"assets/images/woman.png\")\n",
    "image.resize((512, 512))"
   ]
  },
  {
   "cell_type": "code",
   "execution_count": null,
   "metadata": {},
   "outputs": [],
   "source": [
    "images = ip_model.generate(pil_image=image, num_samples=1, num_inference_steps=30,\n",
    "                           prompt=\"best quality, high quality, wearing sunglasses on the beach\", scale=0.6)\n"
   ]
  }
 ],
 "metadata": {
  "kernelspec": {
   "display_name": "Python 3",
   "language": "python",
   "name": "python3"
  },
  "language_info": {
   "codemirror_mode": {
    "name": "ipython",
    "version": 3
   },
   "file_extension": ".py",
   "mimetype": "text/x-python",
   "name": "python",
   "nbconvert_exporter": "python",
   "pygments_lexer": "ipython3",
   "version": "3.10.8"
  }
 },
 "nbformat": 4,
 "nbformat_minor": 2
}
